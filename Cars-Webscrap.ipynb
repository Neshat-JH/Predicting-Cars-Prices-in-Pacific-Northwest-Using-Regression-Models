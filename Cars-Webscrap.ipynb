{
 "cells": [
  {
   "cell_type": "code",
   "execution_count": 1,
   "metadata": {},
   "outputs": [],
   "source": [
    "from bs4 import BeautifulSoup as bs\n",
    "import requests"
   ]
  },
  {
   "cell_type": "code",
   "execution_count": 2,
   "metadata": {},
   "outputs": [
    {
     "name": "stdout",
     "output_type": "stream",
     "text": [
      "User-agent: *\n",
      "\n",
      "Disallow: /windshield/\n",
      "Disallow: /ajax/coreshoppingsupportapi/1.0/listing/vhr/* # CarFax\n",
      "Disallow: /ajax/listingsapi/1.0/saved-vehicles/* #Missing Registration cookie\n",
      "Disallow: /profile/ # User profiles\n",
      "Disallow: /document-generator/ # Service Coupons - no longer offered\n",
      "\n",
      "Disallow: /dv/\n",
      "Disallow: /rv/\n",
      "\n",
      "Disallow: /react-shop-webapp/\n",
      "\n",
      "Disallow: /go/advice/advice_carprices.jhtml\n",
      "Disallow: /go/buy-cars/*\n",
      "Disallow: /go/car-dealers/kcj/*\n",
      "Disallow: /go/dealersearch/logDealerLead*\n",
      "Disallow: /go/search/newBuyIndex.jsp*\n",
      "Disallow: /go/search/dealerWebsite.jsp*\n",
      "Disallow: /go/video/motorweek/videoPopup.jsp*\n",
      "\n",
      "Disallow: /shopping/certified-preowned/\n",
      "Disallow: /shopping/new/\n",
      "Disallow: /shopping/results/\n",
      "Disallow: /dealers/*/inventory/\n",
      "Disallow: *ni=1*\n",
      "Disallow: *ni=2*\n",
      "Disallow: *ni=3*\n",
      "\n",
      "Disallow: */specialoffers/\n",
      "\n",
      "Disallow: /vehicle/\n",
      "Disallow: /vehicledetail/\n",
      "\n",
      "#Individual Review Crawl Control\n",
      "Disallow: /dealers/*/reviews/*/\n",
      "Disallow: /research/*/consumer-reviews/*/\n",
      "Disallow: */write-review/\n",
      "Disallow: */?reviewTags*\n",
      "Disallow: */dealer_reviews/new/\n",
      "\n",
      "# DR\n",
      "Disallow: */employees/\n",
      "\n",
      "Disallow: *href_to_vdp*\n",
      "\n",
      "Sitemap: https://www.cars.com/secure/sitemap/s_sitemap_index.xml\n",
      "Sitemap: https://www.cars.com/news/sitemap/index.xml\n",
      "Sitemap: https://www.cars.com/research/sitemap/index.xml\n",
      "\n",
      "User-agent: grapeshot\n",
      "Disallow:\n",
      "\n",
      "User-agent: PowerMapper\n",
      "Allow: /\n",
      "\n",
      "\n"
     ]
    }
   ],
   "source": [
    "#extracting the robots.txt\n",
    "\n",
    "url = 'http://www.cars.com/robots.txt'\n",
    "response  = requests.get(url)\n",
    "print(response.text)"
   ]
  },
  {
   "cell_type": "code",
   "execution_count": 3,
   "metadata": {},
   "outputs": [
    {
     "name": "stdout",
     "output_type": "stream",
     "text": [
      "{'User-agent': 'Mozilla/5.0 (Windows; U; Windows NT 6.1; de-DE) AppleWebKit/533.20.25 (KHTML, like Gecko) Version/5.0.3 Safari/533.19.4'}\n"
     ]
    }
   ],
   "source": [
    "#creating a fake user-agent\n",
    "from fake_useragent import UserAgent\n",
    "\n",
    "ua = UserAgent()\n",
    "user_agent = {'User-agent': ua.random}\n",
    "print(user_agent)"
   ]
  },
  {
   "cell_type": "code",
   "execution_count": 4,
   "metadata": {},
   "outputs": [],
   "source": [
    "#creating a header based on the user-agent\n",
    "header = {\n",
    "    \"User-Agent\": 'Mozilla/5.0 (Windows; U; Windows NT 6.1; de-DE) AppleWebKit/533.20.25 (KHTML, like Gecko) Version/5.0.3 Safari/533.19.4',\n",
    "    \"Accept-Language\": 'en-US'\n",
    "}\n",
    "\n",
    "\n",
    "#defining a function to extraxt one page\n",
    "def get_unit_page_urls(url):\n",
    "    \"\"\"\n",
    "    returns the list of all the items in the input url.\n",
    "    \n",
    "    \"\"\"\n",
    "\n",
    "    response = requests.get(url, headers=header)\n",
    "    data = response.text\n",
    "    soup = bs(data, \"html.parser\")\n",
    "    unit_page_urls = []\n",
    "    \n",
    "    class_name = \"vehicle-card-main js-gallery-click-card\"\n",
    "\n",
    "    for i in range(len(soup.find_all(class_=class_name))):\n",
    "        url = soup.find_all(class_=class_name)[i].find('a')['href']\n",
    "        unit_page_urls.append(f\"https://www.cars.com/{url}\")\n",
    "\n",
    "    return unit_page_urls"
   ]
  },
  {
   "cell_type": "code",
   "execution_count": 5,
   "metadata": {},
   "outputs": [],
   "source": [
    "#defining a function to extraxt all pages based on zipcode\n",
    "def get_multi_urls(start_page, num_of_pages, radius, zipcode):\n",
    "    \"\"\"\n",
    "    returns the list of urls based on location(zipcode).\n",
    "    \n",
    "    \"\"\"\n",
    "\n",
    "    multi_page_urls = []\n",
    "\n",
    "    for i in range(num_of_pages):\n",
    "        root_url = \"https://www.cars.com/for-sale/searchresults.action/?page={}&perPage=100&rd={}&searchSource=GN_BREADCRUMB&sort=relevance&zc={}\"\\\n",
    "        .format(i + start_page, radius, zipcode)\n",
    "        \n",
    "        multi_page_urls.append(root_url)\n",
    "\n",
    "#         multi_page_urls.append(get_unit_page_urls(root_url)) #appending all urls using get_unit_page_urls function\n",
    "\n",
    "#     urls_list = [item for sub_list in multi_page_urls for item in sub_list]\n",
    "\n",
    "    return multi_page_urls"
   ]
  },
  {
   "cell_type": "code",
   "execution_count": 6,
   "metadata": {},
   "outputs": [],
   "source": [
    "def get_car_features(url):\n",
    "    cars_list = []\n",
    "    response = requests.get(url, headers=header)\n",
    "    data = response.text\n",
    "    soup = bs(data, \"html.parser\")\n",
    "    \n",
    "    class_name=\"fancy-description-list\"\n",
    "    main_features = soup.find_all(class_=class_name) #access all the main features\n",
    "    \n",
    "    main_feature_list = []\n",
    "    for i in range(len(main_features)):\n",
    "        main_feature_list.append(main_features[i].text.strip().replace(\"\\n \\n\\n\", \"\\n\").replace(\"\\n\\n\\n\\n\\n\\n\\n\\n\\n\",\"\\n\").replace(\"\\n\\n\\n\\n\", \"\\n\").replace(\"\\n\\n\", \"\\n\").split(\"\\n\"))\n",
    "\n",
    "    basic_features = main_feature_list[0]\n",
    "    \n",
    "    extra_features = main_feature_list[1]\n",
    "    \n",
    "    basic_dict = {}\n",
    "    \n",
    "    features = ['Name', 'Address', 'Rating', 'Mileage', 'Fuel Type', 'City MPG','Highway MPG', 'Engine', 'Drivetrain',\n",
    "              'Exterior Color', 'Interior Color','Transmission', 'Safety', 'Entertainment', 'Price', 'MPG']\n",
    "    features_lower = [x.lower() for x in features]\n",
    "\n",
    "    for i in range(0, len(basic_features)):\n",
    "        if basic_features[i].lower() in features_lower:\n",
    "            basic_dict[basic_features[i]] = basic_features[i+1]\n",
    "        \n",
    "    extra_features = [x for x in extra_features if x != '']\n",
    "    for i in range(0, len(extra_features)):\n",
    "        if extra_features[i].lower() in features_lower:\n",
    "            basic_dict[extra_features[i]] = extra_features[i+1]\n",
    "        \n",
    "    name = soup.find('h1', class_='listing-title').text\n",
    "    basic_dict['name'] = name\n",
    "    \n",
    "    address = soup.find(class_='dealer-address').text.strip()\n",
    "    basic_dict['address'] = address\n",
    "\n",
    "    rating = soup.find(class_='sds-rating__count').text\n",
    "    basic_dict['rating'] = rating\n",
    "\n",
    "    price = soup.find(class_='primary-price').text\n",
    "    basic_dict['price'] = price\n",
    "\n",
    "    MPGs = basic_dict['MPG'].split(\"–\")\n",
    "    basic_dict['city_MPG'] = MPGs[0]\n",
    "    basic_dict['highway_MPG'] = MPGs[1]\n",
    "    \n",
    "    return basic_dict"
   ]
  },
  {
   "cell_type": "code",
   "execution_count": 7,
   "metadata": {},
   "outputs": [
    {
     "name": "stdout",
     "output_type": "stream",
     "text": [
      "['https://www.cars.com/for-sale/searchresults.action/?page=1&perPage=100&rd=20&searchSource=GN_BREADCRUMB&sort=relevance&zc=98125', 'https://www.cars.com/for-sale/searchresults.action/?page=2&perPage=100&rd=20&searchSource=GN_BREADCRUMB&sort=relevance&zc=98125', 'https://www.cars.com/for-sale/searchresults.action/?page=3&perPage=100&rd=20&searchSource=GN_BREADCRUMB&sort=relevance&zc=98125', 'https://www.cars.com/for-sale/searchresults.action/?page=4&perPage=100&rd=20&searchSource=GN_BREADCRUMB&sort=relevance&zc=98125', 'https://www.cars.com/for-sale/searchresults.action/?page=5&perPage=100&rd=20&searchSource=GN_BREADCRUMB&sort=relevance&zc=98125', 'https://www.cars.com/for-sale/searchresults.action/?page=6&perPage=100&rd=20&searchSource=GN_BREADCRUMB&sort=relevance&zc=98125', 'https://www.cars.com/for-sale/searchresults.action/?page=7&perPage=100&rd=20&searchSource=GN_BREADCRUMB&sort=relevance&zc=98125', 'https://www.cars.com/for-sale/searchresults.action/?page=8&perPage=100&rd=20&searchSource=GN_BREADCRUMB&sort=relevance&zc=98125', 'https://www.cars.com/for-sale/searchresults.action/?page=9&perPage=100&rd=20&searchSource=GN_BREADCRUMB&sort=relevance&zc=98125', 'https://www.cars.com/for-sale/searchresults.action/?page=10&perPage=100&rd=20&searchSource=GN_BREADCRUMB&sort=relevance&zc=98125']\n"
     ]
    }
   ],
   "source": [
    "import pandas as pd\n",
    "import time, os\n",
    "import random\n",
    "\n",
    "\n",
    "\n",
    "list_of_url = get_multi_urls(start_page=1, num_of_pages=10, radius=20, zipcode=98125)\n",
    "print(list_of_url)\n",
    "# cars_list = []\n",
    "\n",
    "\n",
    "# for url in list_of_url:\n",
    "#     try:\n",
    "#         cars_list.append(get_car_features(url))\n",
    "#     except:\n",
    "#         print('---')\n",
    "\n",
    "# df = pd.DataFrame(cars_list)  \n",
    "# df.head()"
   ]
  },
  {
   "cell_type": "code",
   "execution_count": null,
   "metadata": {},
   "outputs": [],
   "source": [
    "cars_list = []\n",
    "for url in list_of_url:\n",
    "    try:\n",
    "        cars_list.append(get_car_features(url))\n",
    "    except:\n",
    "        print('---')"
   ]
  },
  {
   "cell_type": "code",
   "execution_count": 8,
   "metadata": {},
   "outputs": [],
   "source": [
    "# import pandas as pd\n",
    "# import time, os\n",
    "# import random\n",
    "\n",
    "# seattle_zipcode = 98125\n",
    "# start_page = 1\n",
    "\n",
    "# for i in range(5): \n",
    "#     list_of_url = get_multi_urls(start_page=start_page, num_of_pages=10, radius=30, zipcode=seattle_zipcode)\n",
    "    \n",
    "#     cars_list = []\n",
    "\n",
    "#     for url in list_of_url:\n",
    "#         try:\n",
    "#             cars_list.append(get_car_features(url))\n",
    "#         except:\n",
    "#             print('---')\n",
    "\n",
    "#     df = pd.DataFrame(cars_list)\n",
    "    \n",
    "# df.head()"
   ]
  },
  {
   "cell_type": "code",
   "execution_count": 9,
   "metadata": {},
   "outputs": [],
   "source": [
    "#df.to_csv(r'C:\\Users\\nesha\\Desktop\\cars_data\\df_1000_{}_p{}_p{}.csv'.format(seattle_zipcode, start_page, start_page+9))\n",
    "    \n",
    "    #print(\"Done for page {} to page {}\".format(start_page, start_page+9))\n",
    "    \n",
    "    #start_page += 10\n",
    "    \n",
    "    #time.sleep(15)"
   ]
  },
  {
   "cell_type": "code",
   "execution_count": null,
   "metadata": {},
   "outputs": [],
   "source": [
    "\n",
    "portland_zipcode = 97035\n",
    "start_page = 1\n",
    "\n",
    "for i in range(5): \n",
    "    list_of_url = get_multi_urls(start_page=start_page, num_of_pages=10, radius=30, zipcode=portland_zipcode)\n",
    "    \n",
    "    cars_list = []\n",
    "\n",
    "    for url in list_of_url:\n",
    "        try:\n",
    "            cars_list.append(get_car_features(url))\n",
    "        except:\n",
    "            print('---')\n",
    "\n",
    "    df = pd.DataFrame(cars_list)\n",
    "    \n",
    "df.head()"
   ]
  },
  {
   "cell_type": "code",
   "execution_count": null,
   "metadata": {},
   "outputs": [],
   "source": [
    "df.to_csv(r'C:\\Users\\nesha\\Desktop\\cars_data\\df_1000_{}_p{}_p{}.csv'.format(portland_zipcode, start_page, start_page+9))\n",
    "    \n",
    "    print(\"Done for page {} to page {}\".format(start_page, start_page+9))\n",
    "    \n",
    "    start_page += 10\n",
    "    \n",
    "    time.sleep(15)"
   ]
  }
 ],
 "metadata": {
  "kernelspec": {
   "display_name": "Python 3",
   "language": "python",
   "name": "python3"
  },
  "language_info": {
   "codemirror_mode": {
    "name": "ipython",
    "version": 3
   },
   "file_extension": ".py",
   "mimetype": "text/x-python",
   "name": "python",
   "nbconvert_exporter": "python",
   "pygments_lexer": "ipython3",
   "version": "3.8.5"
  }
 },
 "nbformat": 4,
 "nbformat_minor": 4
}
