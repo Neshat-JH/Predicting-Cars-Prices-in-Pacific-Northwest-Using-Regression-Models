{
 "cells": [
  {
   "cell_type": "markdown",
   "metadata": {},
   "source": [
    "## 1. Importing Needed Libraries"
   ]
  },
  {
   "cell_type": "code",
   "execution_count": 1,
   "metadata": {},
   "outputs": [],
   "source": [
    "import pandas as pd\n",
    "import numpy as np\n",
    "from sklearn.impute import SimpleImputer\n",
    "import statsmodels.api as sm\n",
    "import statsmodels.formula.api as smf\n",
    "import patsy\n",
    "import glob\n",
    "import re\n",
    "\n",
    "import seaborn as sns\n",
    "import matplotlib.pyplot as plt\n",
    "\n",
    "%matplotlib inline\n",
    "\n",
    "import warnings\n",
    "warnings.filterwarnings(\"ignore\")"
   ]
  },
  {
   "cell_type": "markdown",
   "metadata": {},
   "source": [
    "## 2. Loading Data"
   ]
  },
  {
   "cell_type": "code",
   "execution_count": 2,
   "metadata": {},
   "outputs": [
    {
     "data": {
      "text/plain": [
       "(10015, 15)"
      ]
     },
     "execution_count": 2,
     "metadata": {},
     "output_type": "execute_result"
    }
   ],
   "source": [
    "path = r'C:\\Users\\nesha\\Desktop\\car_data' # data path\n",
    "all_files = glob.glob(path + \"\\*.csv\")\n",
    "\n",
    "list_ = []\n",
    "\n",
    "for filename in all_files:\n",
    "    data = pd.read_csv(filename, index_col=0, header=0)\n",
    "    list_.append(data)\n",
    "\n",
    "df = pd.concat(list_, axis=0, ignore_index=True)\n",
    "df.shape"
   ]
  },
  {
   "cell_type": "code",
   "execution_count": 3,
   "metadata": {},
   "outputs": [
    {
     "data": {
      "text/html": [
       "<div>\n",
       "<style scoped>\n",
       "    .dataframe tbody tr th:only-of-type {\n",
       "        vertical-align: middle;\n",
       "    }\n",
       "\n",
       "    .dataframe tbody tr th {\n",
       "        vertical-align: top;\n",
       "    }\n",
       "\n",
       "    .dataframe thead th {\n",
       "        text-align: right;\n",
       "    }\n",
       "</style>\n",
       "<table border=\"1\" class=\"dataframe\">\n",
       "  <thead>\n",
       "    <tr style=\"text-align: right;\">\n",
       "      <th></th>\n",
       "      <th>Name</th>\n",
       "      <th>Mileage</th>\n",
       "      <th>Address</th>\n",
       "      <th>Rating</th>\n",
       "      <th>Fuel Type</th>\n",
       "      <th>City MPG</th>\n",
       "      <th>Highway MPG</th>\n",
       "      <th>Drivetrain</th>\n",
       "      <th>Engine</th>\n",
       "      <th>Exterior Color</th>\n",
       "      <th>Interior Color</th>\n",
       "      <th>Transmission</th>\n",
       "      <th>Entertainment</th>\n",
       "      <th>Safety</th>\n",
       "      <th>Price</th>\n",
       "    </tr>\n",
       "  </thead>\n",
       "  <tbody>\n",
       "    <tr>\n",
       "      <th>0</th>\n",
       "      <td>2018 Volvo V60 T5 Dynamic</td>\n",
       "      <td>37,386</td>\n",
       "      <td>Portland, OR 97214</td>\n",
       "      <td>4.9</td>\n",
       "      <td>Gasoline</td>\n",
       "      <td>25</td>\n",
       "      <td>36</td>\n",
       "      <td>FWD</td>\n",
       "      <td>2.0L I4 16V GDI DOHC Turbo</td>\n",
       "      <td>Onyx Black Metallic</td>\n",
       "      <td>-1</td>\n",
       "      <td>8-Speed Automatic</td>\n",
       "      <td>['Bluetooth', 'Premium Sound System']</td>\n",
       "      <td>['Brake Assist', 'Stability Control', 'Automat...</td>\n",
       "      <td>$25,800</td>\n",
       "    </tr>\n",
       "    <tr>\n",
       "      <th>1</th>\n",
       "      <td>2019 Audi A5 2.0T Premium</td>\n",
       "      <td>22,028</td>\n",
       "      <td>Portland, OR 97201</td>\n",
       "      <td>4.8</td>\n",
       "      <td>Gasoline</td>\n",
       "      <td>23</td>\n",
       "      <td>34</td>\n",
       "      <td>AWD</td>\n",
       "      <td>2.0L I4 16V GDI DOHC Turbo</td>\n",
       "      <td>Glacier White Metallic</td>\n",
       "      <td>Black / Mercato Blue</td>\n",
       "      <td>7-Speed Automatic with Auto-Shift</td>\n",
       "      <td>['Bluetooth', 'Premium Sound System', 'Apple C...</td>\n",
       "      <td>['Backup Camera', 'Brake Assist', 'Stability C...</td>\n",
       "      <td>$38,788</td>\n",
       "    </tr>\n",
       "    <tr>\n",
       "      <th>2</th>\n",
       "      <td>2009 Volkswagen New Beetle 2.5</td>\n",
       "      <td>86,721</td>\n",
       "      <td>Portland, OR 97232</td>\n",
       "      <td>4.9</td>\n",
       "      <td>Gasoline</td>\n",
       "      <td>20</td>\n",
       "      <td>29</td>\n",
       "      <td>FWD</td>\n",
       "      <td>2.5L I5 20V MPFI DOHC</td>\n",
       "      <td>Candy White</td>\n",
       "      <td>Black</td>\n",
       "      <td>6-Speed Automatic</td>\n",
       "      <td>-1</td>\n",
       "      <td>['Brake Assist', 'Stability Control']</td>\n",
       "      <td>$8,599</td>\n",
       "    </tr>\n",
       "    <tr>\n",
       "      <th>3</th>\n",
       "      <td>2018 Toyota Camry XLE</td>\n",
       "      <td>11,936</td>\n",
       "      <td>Portland, OR 97209</td>\n",
       "      <td>3.6</td>\n",
       "      <td>Gasoline</td>\n",
       "      <td>28</td>\n",
       "      <td>39</td>\n",
       "      <td>FWD</td>\n",
       "      <td>Regular Unleaded V-6 3.5 L/211</td>\n",
       "      <td>Midnight Black Metallic</td>\n",
       "      <td>-1</td>\n",
       "      <td>Automatic</td>\n",
       "      <td>['Bluetooth', 'Premium Sound System']</td>\n",
       "      <td>['Backup Camera', 'Brake Assist', 'Stability C...</td>\n",
       "      <td>$25,799</td>\n",
       "    </tr>\n",
       "    <tr>\n",
       "      <th>4</th>\n",
       "      <td>2018 Lexus GX 460 Base</td>\n",
       "      <td>33,065</td>\n",
       "      <td>Portland, OR 97239</td>\n",
       "      <td>4.3</td>\n",
       "      <td>Gasoline</td>\n",
       "      <td>15</td>\n",
       "      <td>18</td>\n",
       "      <td>4WD</td>\n",
       "      <td>4.6L V8 32V MPFI DOHC</td>\n",
       "      <td>Gray</td>\n",
       "      <td>Brown</td>\n",
       "      <td>6-Speed Automatic</td>\n",
       "      <td>['Bluetooth', 'Premium Sound System']</td>\n",
       "      <td>['Backup Camera', 'Brake Assist', 'Stability C...</td>\n",
       "      <td>$39,990</td>\n",
       "    </tr>\n",
       "  </tbody>\n",
       "</table>\n",
       "</div>"
      ],
      "text/plain": [
       "                              Name Mileage             Address  Rating  \\\n",
       "0        2018 Volvo V60 T5 Dynamic  37,386  Portland, OR 97214     4.9   \n",
       "1        2019 Audi A5 2.0T Premium  22,028  Portland, OR 97201     4.8   \n",
       "2   2009 Volkswagen New Beetle 2.5  86,721  Portland, OR 97232     4.9   \n",
       "3            2018 Toyota Camry XLE  11,936  Portland, OR 97209     3.6   \n",
       "4           2018 Lexus GX 460 Base  33,065  Portland, OR 97239     4.3   \n",
       "\n",
       "   Fuel Type  City MPG  Highway MPG Drivetrain  \\\n",
       "0   Gasoline        25           36        FWD   \n",
       "1   Gasoline        23           34        AWD   \n",
       "2   Gasoline        20           29        FWD   \n",
       "3   Gasoline        28           39        FWD   \n",
       "4   Gasoline        15           18        4WD   \n",
       "\n",
       "                            Engine            Exterior Color  \\\n",
       "0       2.0L I4 16V GDI DOHC Turbo       Onyx Black Metallic   \n",
       "1       2.0L I4 16V GDI DOHC Turbo    Glacier White Metallic   \n",
       "2            2.5L I5 20V MPFI DOHC               Candy White   \n",
       "3   Regular Unleaded V-6 3.5 L/211   Midnight Black Metallic   \n",
       "4            4.6L V8 32V MPFI DOHC                      Gray   \n",
       "\n",
       "          Interior Color                        Transmission  \\\n",
       "0                     -1                   8-Speed Automatic   \n",
       "1   Black / Mercato Blue   7-Speed Automatic with Auto-Shift   \n",
       "2                  Black                   6-Speed Automatic   \n",
       "3                     -1                           Automatic   \n",
       "4                  Brown                   6-Speed Automatic   \n",
       "\n",
       "                                       Entertainment  \\\n",
       "0              ['Bluetooth', 'Premium Sound System']   \n",
       "1  ['Bluetooth', 'Premium Sound System', 'Apple C...   \n",
       "2                                                 -1   \n",
       "3              ['Bluetooth', 'Premium Sound System']   \n",
       "4              ['Bluetooth', 'Premium Sound System']   \n",
       "\n",
       "                                              Safety    Price  \n",
       "0  ['Brake Assist', 'Stability Control', 'Automat...  $25,800  \n",
       "1  ['Backup Camera', 'Brake Assist', 'Stability C...  $38,788  \n",
       "2              ['Brake Assist', 'Stability Control']   $8,599  \n",
       "3  ['Backup Camera', 'Brake Assist', 'Stability C...  $25,799  \n",
       "4  ['Backup Camera', 'Brake Assist', 'Stability C...  $39,990  "
      ]
     },
     "execution_count": 3,
     "metadata": {},
     "output_type": "execute_result"
    }
   ],
   "source": [
    "df.head()"
   ]
  },
  {
   "cell_type": "code",
   "execution_count": 4,
   "metadata": {},
   "outputs": [
    {
     "name": "stdout",
     "output_type": "stream",
     "text": [
      "<class 'pandas.core.frame.DataFrame'>\n",
      "RangeIndex: 10015 entries, 0 to 10014\n",
      "Data columns (total 15 columns):\n",
      " #   Column          Non-Null Count  Dtype  \n",
      "---  ------          --------------  -----  \n",
      " 0   Name            10015 non-null  object \n",
      " 1   Mileage         10015 non-null  object \n",
      " 2   Address         10015 non-null  object \n",
      " 3   Rating          10015 non-null  float64\n",
      " 4   Fuel Type       10015 non-null  object \n",
      " 5   City MPG        10015 non-null  int64  \n",
      " 6   Highway MPG     10015 non-null  int64  \n",
      " 7   Drivetrain      10015 non-null  object \n",
      " 8   Engine          10015 non-null  object \n",
      " 9   Exterior Color  10015 non-null  object \n",
      " 10  Interior Color  10015 non-null  object \n",
      " 11  Transmission    10015 non-null  object \n",
      " 12  Entertainment   10015 non-null  object \n",
      " 13  Safety          10015 non-null  object \n",
      " 14  Price           10015 non-null  object \n",
      "dtypes: float64(1), int64(2), object(12)\n",
      "memory usage: 1.1+ MB\n"
     ]
    }
   ],
   "source": [
    "df.info()"
   ]
  },
  {
   "cell_type": "code",
   "execution_count": 5,
   "metadata": {},
   "outputs": [
    {
     "data": {
      "text/plain": [
       "Name               2017 Jeep Wrangler Unlimited Sahara\n",
       "Mileage                                         35,836\n",
       "Address                             Portland, OR 97209\n",
       "Rating                                             3.6\n",
       "Fuel Type                                     Gasoline\n",
       "City MPG                                            16\n",
       "Highway MPG                                         21\n",
       "Drivetrain                                         4WD\n",
       "Engine                  Regular Unleaded V-6 3.6 L/220\n",
       "Exterior Color      Granite Crystal Metallic Clearcoat\n",
       "Interior Color                                   Black\n",
       "Transmission                                 Automatic\n",
       "Entertainment                            ['Bluetooth']\n",
       "Safety                           ['Stability Control']\n",
       "Price                                          $33,620\n",
       "Name: 5, dtype: object"
      ]
     },
     "execution_count": 5,
     "metadata": {},
     "output_type": "execute_result"
    }
   ],
   "source": [
    "df.iloc[5]"
   ]
  },
  {
   "cell_type": "code",
   "execution_count": 6,
   "metadata": {},
   "outputs": [
    {
     "data": {
      "text/plain": [
       "Name                        Certified 2019 Volkswagen Jetta 1.4T SE\n",
       "Mileage                                                      13,427\n",
       "Address                                         Vancouver, WA 98662\n",
       "Rating                                                          4.9\n",
       "Fuel Type                                                  Gasoline\n",
       "City MPG                                                         30\n",
       "Highway MPG                                                      40\n",
       "Drivetrain                                                      FWD\n",
       "Engine                                   1.4L I4 16V GDI DOHC Turbo\n",
       "Exterior Color                                                Black\n",
       "Interior Color                                           Storm Gray\n",
       "Transmission                                      8-Speed Automatic\n",
       "Entertainment                                         ['Bluetooth']\n",
       "Safety            ['Backup Camera', 'Brake Assist', 'Stability C...\n",
       "Price                                                       $19,987\n",
       "Name: 454, dtype: object"
      ]
     },
     "execution_count": 6,
     "metadata": {},
     "output_type": "execute_result"
    }
   ],
   "source": [
    "df.iloc[454]"
   ]
  },
  {
   "cell_type": "markdown",
   "metadata": {},
   "source": [
    "## 3. Extracting Built-Year, Make and Model of Cars"
   ]
  },
  {
   "cell_type": "code",
   "execution_count": 7,
   "metadata": {},
   "outputs": [],
   "source": [
    "#extracting the built year\n",
    "def car_built_year(name):\n",
    "    name_year = name.replace('Certified ','').strip()\n",
    "    year = int(name_year.split(' ')[0])\n",
    "    \n",
    "    return year"
   ]
  },
  {
   "cell_type": "code",
   "execution_count": 8,
   "metadata": {},
   "outputs": [],
   "source": [
    "df['Built Year'] = df['Name'].apply(car_built_year)"
   ]
  },
  {
   "cell_type": "code",
   "execution_count": 9,
   "metadata": {},
   "outputs": [],
   "source": [
    "#extracting the make of the car\n",
    "def car_make(name):\n",
    "        return name.split(' ')[2]"
   ]
  },
  {
   "cell_type": "code",
   "execution_count": 10,
   "metadata": {},
   "outputs": [],
   "source": [
    "df['Make'] = df['Name'].apply(car_make)"
   ]
  },
  {
   "cell_type": "code",
   "execution_count": 11,
   "metadata": {},
   "outputs": [],
   "source": [
    "#extracting the model\n",
    "def car_model(name):\n",
    "    try:\n",
    "        return name.split(' ')[3]\n",
    "    except:\n",
    "        return name.split(' ')[2]"
   ]
  },
  {
   "cell_type": "code",
   "execution_count": 12,
   "metadata": {},
   "outputs": [],
   "source": [
    "df['Model'] = df['Name'].apply(car_model)"
   ]
  },
  {
   "cell_type": "code",
   "execution_count": 13,
   "metadata": {},
   "outputs": [
    {
     "data": {
      "text/html": [
       "<div>\n",
       "<style scoped>\n",
       "    .dataframe tbody tr th:only-of-type {\n",
       "        vertical-align: middle;\n",
       "    }\n",
       "\n",
       "    .dataframe tbody tr th {\n",
       "        vertical-align: top;\n",
       "    }\n",
       "\n",
       "    .dataframe thead th {\n",
       "        text-align: right;\n",
       "    }\n",
       "</style>\n",
       "<table border=\"1\" class=\"dataframe\">\n",
       "  <thead>\n",
       "    <tr style=\"text-align: right;\">\n",
       "      <th></th>\n",
       "      <th>Name</th>\n",
       "      <th>Mileage</th>\n",
       "      <th>Address</th>\n",
       "      <th>Rating</th>\n",
       "      <th>Fuel Type</th>\n",
       "      <th>City MPG</th>\n",
       "      <th>Highway MPG</th>\n",
       "      <th>Drivetrain</th>\n",
       "      <th>Engine</th>\n",
       "      <th>Exterior Color</th>\n",
       "      <th>Interior Color</th>\n",
       "      <th>Transmission</th>\n",
       "      <th>Entertainment</th>\n",
       "      <th>Safety</th>\n",
       "      <th>Price</th>\n",
       "      <th>Built Year</th>\n",
       "      <th>Make</th>\n",
       "      <th>Model</th>\n",
       "    </tr>\n",
       "  </thead>\n",
       "  <tbody>\n",
       "    <tr>\n",
       "      <th>0</th>\n",
       "      <td>2018 Volvo V60 T5 Dynamic</td>\n",
       "      <td>37,386</td>\n",
       "      <td>Portland, OR 97214</td>\n",
       "      <td>4.9</td>\n",
       "      <td>Gasoline</td>\n",
       "      <td>25</td>\n",
       "      <td>36</td>\n",
       "      <td>FWD</td>\n",
       "      <td>2.0L I4 16V GDI DOHC Turbo</td>\n",
       "      <td>Onyx Black Metallic</td>\n",
       "      <td>-1</td>\n",
       "      <td>8-Speed Automatic</td>\n",
       "      <td>['Bluetooth', 'Premium Sound System']</td>\n",
       "      <td>['Brake Assist', 'Stability Control', 'Automat...</td>\n",
       "      <td>$25,800</td>\n",
       "      <td>2018</td>\n",
       "      <td>Volvo</td>\n",
       "      <td>V60</td>\n",
       "    </tr>\n",
       "    <tr>\n",
       "      <th>1</th>\n",
       "      <td>2019 Audi A5 2.0T Premium</td>\n",
       "      <td>22,028</td>\n",
       "      <td>Portland, OR 97201</td>\n",
       "      <td>4.8</td>\n",
       "      <td>Gasoline</td>\n",
       "      <td>23</td>\n",
       "      <td>34</td>\n",
       "      <td>AWD</td>\n",
       "      <td>2.0L I4 16V GDI DOHC Turbo</td>\n",
       "      <td>Glacier White Metallic</td>\n",
       "      <td>Black / Mercato Blue</td>\n",
       "      <td>7-Speed Automatic with Auto-Shift</td>\n",
       "      <td>['Bluetooth', 'Premium Sound System', 'Apple C...</td>\n",
       "      <td>['Backup Camera', 'Brake Assist', 'Stability C...</td>\n",
       "      <td>$38,788</td>\n",
       "      <td>2019</td>\n",
       "      <td>Audi</td>\n",
       "      <td>A5</td>\n",
       "    </tr>\n",
       "    <tr>\n",
       "      <th>2</th>\n",
       "      <td>2009 Volkswagen New Beetle 2.5</td>\n",
       "      <td>86,721</td>\n",
       "      <td>Portland, OR 97232</td>\n",
       "      <td>4.9</td>\n",
       "      <td>Gasoline</td>\n",
       "      <td>20</td>\n",
       "      <td>29</td>\n",
       "      <td>FWD</td>\n",
       "      <td>2.5L I5 20V MPFI DOHC</td>\n",
       "      <td>Candy White</td>\n",
       "      <td>Black</td>\n",
       "      <td>6-Speed Automatic</td>\n",
       "      <td>-1</td>\n",
       "      <td>['Brake Assist', 'Stability Control']</td>\n",
       "      <td>$8,599</td>\n",
       "      <td>2009</td>\n",
       "      <td>Volkswagen</td>\n",
       "      <td>New</td>\n",
       "    </tr>\n",
       "    <tr>\n",
       "      <th>3</th>\n",
       "      <td>2018 Toyota Camry XLE</td>\n",
       "      <td>11,936</td>\n",
       "      <td>Portland, OR 97209</td>\n",
       "      <td>3.6</td>\n",
       "      <td>Gasoline</td>\n",
       "      <td>28</td>\n",
       "      <td>39</td>\n",
       "      <td>FWD</td>\n",
       "      <td>Regular Unleaded V-6 3.5 L/211</td>\n",
       "      <td>Midnight Black Metallic</td>\n",
       "      <td>-1</td>\n",
       "      <td>Automatic</td>\n",
       "      <td>['Bluetooth', 'Premium Sound System']</td>\n",
       "      <td>['Backup Camera', 'Brake Assist', 'Stability C...</td>\n",
       "      <td>$25,799</td>\n",
       "      <td>2018</td>\n",
       "      <td>Toyota</td>\n",
       "      <td>Camry</td>\n",
       "    </tr>\n",
       "    <tr>\n",
       "      <th>4</th>\n",
       "      <td>2018 Lexus GX 460 Base</td>\n",
       "      <td>33,065</td>\n",
       "      <td>Portland, OR 97239</td>\n",
       "      <td>4.3</td>\n",
       "      <td>Gasoline</td>\n",
       "      <td>15</td>\n",
       "      <td>18</td>\n",
       "      <td>4WD</td>\n",
       "      <td>4.6L V8 32V MPFI DOHC</td>\n",
       "      <td>Gray</td>\n",
       "      <td>Brown</td>\n",
       "      <td>6-Speed Automatic</td>\n",
       "      <td>['Bluetooth', 'Premium Sound System']</td>\n",
       "      <td>['Backup Camera', 'Brake Assist', 'Stability C...</td>\n",
       "      <td>$39,990</td>\n",
       "      <td>2018</td>\n",
       "      <td>Lexus</td>\n",
       "      <td>GX</td>\n",
       "    </tr>\n",
       "  </tbody>\n",
       "</table>\n",
       "</div>"
      ],
      "text/plain": [
       "                              Name Mileage             Address  Rating  \\\n",
       "0        2018 Volvo V60 T5 Dynamic  37,386  Portland, OR 97214     4.9   \n",
       "1        2019 Audi A5 2.0T Premium  22,028  Portland, OR 97201     4.8   \n",
       "2   2009 Volkswagen New Beetle 2.5  86,721  Portland, OR 97232     4.9   \n",
       "3            2018 Toyota Camry XLE  11,936  Portland, OR 97209     3.6   \n",
       "4           2018 Lexus GX 460 Base  33,065  Portland, OR 97239     4.3   \n",
       "\n",
       "   Fuel Type  City MPG  Highway MPG Drivetrain  \\\n",
       "0   Gasoline        25           36        FWD   \n",
       "1   Gasoline        23           34        AWD   \n",
       "2   Gasoline        20           29        FWD   \n",
       "3   Gasoline        28           39        FWD   \n",
       "4   Gasoline        15           18        4WD   \n",
       "\n",
       "                            Engine            Exterior Color  \\\n",
       "0       2.0L I4 16V GDI DOHC Turbo       Onyx Black Metallic   \n",
       "1       2.0L I4 16V GDI DOHC Turbo    Glacier White Metallic   \n",
       "2            2.5L I5 20V MPFI DOHC               Candy White   \n",
       "3   Regular Unleaded V-6 3.5 L/211   Midnight Black Metallic   \n",
       "4            4.6L V8 32V MPFI DOHC                      Gray   \n",
       "\n",
       "          Interior Color                        Transmission  \\\n",
       "0                     -1                   8-Speed Automatic   \n",
       "1   Black / Mercato Blue   7-Speed Automatic with Auto-Shift   \n",
       "2                  Black                   6-Speed Automatic   \n",
       "3                     -1                           Automatic   \n",
       "4                  Brown                   6-Speed Automatic   \n",
       "\n",
       "                                       Entertainment  \\\n",
       "0              ['Bluetooth', 'Premium Sound System']   \n",
       "1  ['Bluetooth', 'Premium Sound System', 'Apple C...   \n",
       "2                                                 -1   \n",
       "3              ['Bluetooth', 'Premium Sound System']   \n",
       "4              ['Bluetooth', 'Premium Sound System']   \n",
       "\n",
       "                                              Safety    Price  Built Year  \\\n",
       "0  ['Brake Assist', 'Stability Control', 'Automat...  $25,800        2018   \n",
       "1  ['Backup Camera', 'Brake Assist', 'Stability C...  $38,788        2019   \n",
       "2              ['Brake Assist', 'Stability Control']   $8,599        2009   \n",
       "3  ['Backup Camera', 'Brake Assist', 'Stability C...  $25,799        2018   \n",
       "4  ['Backup Camera', 'Brake Assist', 'Stability C...  $39,990        2018   \n",
       "\n",
       "         Make  Model  \n",
       "0       Volvo    V60  \n",
       "1        Audi     A5  \n",
       "2  Volkswagen    New  \n",
       "3      Toyota  Camry  \n",
       "4       Lexus     GX  "
      ]
     },
     "execution_count": 13,
     "metadata": {},
     "output_type": "execute_result"
    }
   ],
   "source": [
    "df.head()"
   ]
  },
  {
   "cell_type": "code",
   "execution_count": 14,
   "metadata": {},
   "outputs": [
    {
     "data": {
      "text/plain": [
       "Ford             970\n",
       "Toyota           900\n",
       "BMW              697\n",
       "Chevrolet        664\n",
       "Jeep             573\n",
       "Honda            543\n",
       "Mercedes-Benz    536\n",
       "Audi             489\n",
       "Hyundai          472\n",
       "Subaru           455\n",
       "Volkswagen       403\n",
       "Nissan           389\n",
       "GMC              309\n",
       "Kia              266\n",
       "Lexus            263\n",
       "Mazda            253\n",
       "Dodge            214\n",
       "RAM              213\n",
       "Land             164\n",
       "Acura            141\n",
       "Volvo            139\n",
       "INFINITI         123\n",
       "Cadillac         110\n",
       "Porsche           97\n",
       "Chrysler          93\n",
       "Buick             87\n",
       "MINI              66\n",
       "Mitsubishi        64\n",
       "Jaguar            57\n",
       "Lincoln           54\n",
       "Alfa              53\n",
       "Tesla             44\n",
       "Maserati          32\n",
       "FIAT              21\n",
       "Scion             17\n",
       "Pontiac            7\n",
       "Bentley            6\n",
       "Genesis            6\n",
       "Saturn             5\n",
       "Ferrari            4\n",
       "Rolls-Royce        3\n",
       "Suzuki             3\n",
       "smart              2\n",
       "Saab               2\n",
       "Daewoo             1\n",
       "Hummer             1\n",
       "Mercury            1\n",
       "AC                 1\n",
       "Aston              1\n",
       "Isuzu              1\n",
       "Name: Make, dtype: int64"
      ]
     },
     "execution_count": 14,
     "metadata": {},
     "output_type": "execute_result"
    }
   ],
   "source": [
    "df['Make'].value_counts()"
   ]
  },
  {
   "cell_type": "code",
   "execution_count": 15,
   "metadata": {},
   "outputs": [
    {
     "data": {
      "text/plain": [
       "Ford             970\n",
       "Toyota           900\n",
       "BMW              697\n",
       "Chevrolet        664\n",
       "Jeep             573\n",
       "Honda            543\n",
       "Mercedes-Benz    536\n",
       "Audi             489\n",
       "Hyundai          472\n",
       "Subaru           455\n",
       "Volkswagen       403\n",
       "Nissan           389\n",
       "GMC              309\n",
       "Kia              266\n",
       "Lexus            263\n",
       "Mazda            253\n",
       "Dodge            214\n",
       "RAM              213\n",
       "Land             164\n",
       "Acura            141\n",
       "Volvo            139\n",
       "INFINITI         123\n",
       "Cadillac         110\n",
       "Porsche           97\n",
       "Chrysler          93\n",
       "Buick             87\n",
       "MINI              66\n",
       "Mitsubishi        64\n",
       "Jaguar            57\n",
       "Lincoln           54\n",
       "Alfa              53\n",
       "Tesla             44\n",
       "Other             44\n",
       "Maserati          32\n",
       "FIAT              21\n",
       "Scion             17\n",
       "Name: Make, dtype: int64"
      ]
     },
     "execution_count": 15,
     "metadata": {},
     "output_type": "execute_result"
    }
   ],
   "source": [
    "#combining car makes with lower counts into a single group called 'other'\n",
    "make_other = df['Make'].value_counts()[df['Make'].value_counts() <= 10].index\n",
    "df['Make'] = df['Make'].replace(make_other, 'Other')\n",
    "df['Make'].value_counts()"
   ]
  },
  {
   "cell_type": "code",
   "execution_count": 16,
   "metadata": {},
   "outputs": [
    {
     "data": {
      "text/plain": [
       "F-150        235\n",
       "Grand        211\n",
       "Wrangler     197\n",
       "Silverado    197\n",
       "Rover        164\n",
       "            ... \n",
       "535d           1\n",
       "Sebring        1\n",
       "Cayman         1\n",
       "S500           1\n",
       "xD             1\n",
       "Name: Model, Length: 472, dtype: int64"
      ]
     },
     "execution_count": 16,
     "metadata": {},
     "output_type": "execute_result"
    }
   ],
   "source": [
    "df['Model'].value_counts()"
   ]
  },
  {
   "cell_type": "code",
   "execution_count": 17,
   "metadata": {},
   "outputs": [
    {
     "data": {
      "text/plain": [
       "Other        895\n",
       "F-150        235\n",
       "Grand        211\n",
       "Silverado    197\n",
       "Wrangler     197\n",
       "            ... \n",
       "Canyon        11\n",
       "EcoSport      11\n",
       "300           11\n",
       "Patriot       11\n",
       "TL            11\n",
       "Name: Model, Length: 196, dtype: int64"
      ]
     },
     "execution_count": 17,
     "metadata": {},
     "output_type": "execute_result"
    }
   ],
   "source": [
    "#combining low count models into a single group called other\n",
    "model_other = df['Model'].value_counts()[df['Model'].value_counts() <= 10].index\n",
    "df['Model'] = df['Model'].replace(model_other, 'Other')\n",
    "df['Model'].value_counts()"
   ]
  },
  {
   "cell_type": "markdown",
   "metadata": {},
   "source": [
    "## 4. Cleaning Numerical Data (Mileage and Price)"
   ]
  },
  {
   "cell_type": "code",
   "execution_count": 18,
   "metadata": {},
   "outputs": [],
   "source": [
    "def car_mileage(mileage):\n",
    "    return int(mileage.replace(',',''))\n",
    "\n",
    "df['Mileage'] = df['Mileage'].apply(car_mileage)\n",
    "\n",
    "def car_price(price):\n",
    "    return int(price.replace('$','').replace(',',''))\n",
    "\n",
    "df['Price'] = df['Price'].apply(car_price)"
   ]
  },
  {
   "cell_type": "code",
   "execution_count": 19,
   "metadata": {},
   "outputs": [
    {
     "name": "stdout",
     "output_type": "stream",
     "text": [
      "<class 'pandas.core.frame.DataFrame'>\n",
      "RangeIndex: 10015 entries, 0 to 10014\n",
      "Data columns (total 18 columns):\n",
      " #   Column          Non-Null Count  Dtype  \n",
      "---  ------          --------------  -----  \n",
      " 0   Name            10015 non-null  object \n",
      " 1   Mileage         10015 non-null  int64  \n",
      " 2   Address         10015 non-null  object \n",
      " 3   Rating          10015 non-null  float64\n",
      " 4   Fuel Type       10015 non-null  object \n",
      " 5   City MPG        10015 non-null  int64  \n",
      " 6   Highway MPG     10015 non-null  int64  \n",
      " 7   Drivetrain      10015 non-null  object \n",
      " 8   Engine          10015 non-null  object \n",
      " 9   Exterior Color  10015 non-null  object \n",
      " 10  Interior Color  10015 non-null  object \n",
      " 11  Transmission    10015 non-null  object \n",
      " 12  Entertainment   10015 non-null  object \n",
      " 13  Safety          10015 non-null  object \n",
      " 14  Price           10015 non-null  int64  \n",
      " 15  Built Year      10015 non-null  int64  \n",
      " 16  Make            10015 non-null  object \n",
      " 17  Model           10015 non-null  object \n",
      "dtypes: float64(1), int64(5), object(12)\n",
      "memory usage: 1.4+ MB\n"
     ]
    }
   ],
   "source": [
    "df.info()"
   ]
  },
  {
   "cell_type": "markdown",
   "metadata": {},
   "source": [
    "## 5. Cleaning Drivetrain, Engine and Transmission Features"
   ]
  },
  {
   "cell_type": "code",
   "execution_count": 20,
   "metadata": {},
   "outputs": [
    {
     "data": {
      "text/plain": [
       "array([' FWD', ' AWD', ' 4WD', ' RWD', '-1', ' 4MATIC', ' quattro',\n",
       "       ' 4X4'], dtype=object)"
      ]
     },
     "execution_count": 20,
     "metadata": {},
     "output_type": "execute_result"
    }
   ],
   "source": [
    "df['Drivetrain'].unique()"
   ]
  },
  {
   "cell_type": "code",
   "execution_count": 21,
   "metadata": {},
   "outputs": [],
   "source": [
    "def car_drivetrain(drivetrain):\n",
    "    \"\"\" cleanup the drivetrain inputs for further analysis.\"\"\"\n",
    "    \n",
    "    if 'awd' in drivetrain.lower():\n",
    "        return 'AWD'\n",
    "    \n",
    "    elif 'fwd' in drivetrain.lower():\n",
    "        return 'FWD'\n",
    "    \n",
    "    elif '4wd' in drivetrain.lower() or '4x4' in drivetrain.lower():\n",
    "        return '4WD'\n",
    "    \n",
    "    elif 'rwd' in drivetrain.lower():\n",
    "        return 'RWD'\n",
    "    \n",
    "    elif '4matic' in drivetrain.lower():\n",
    "        return '4MATIC'\n",
    "    \n",
    "    elif 'quattro' in drivetrain.lower():\n",
    "        return 'Quattro'\n",
    "     \n",
    "    else:\n",
    "        return np.nan"
   ]
  },
  {
   "cell_type": "code",
   "execution_count": 22,
   "metadata": {},
   "outputs": [
    {
     "data": {
      "text/plain": [
       "AWD        3941\n",
       "FWD        2937\n",
       "4WD        2306\n",
       "RWD         808\n",
       "Quattro       2\n",
       "4MATIC        1\n",
       "Name: Drivetrain, dtype: int64"
      ]
     },
     "execution_count": 22,
     "metadata": {},
     "output_type": "execute_result"
    }
   ],
   "source": [
    "df['Drivetrain'] = df['Drivetrain'].apply(car_drivetrain)\n",
    "df['Drivetrain'].value_counts()"
   ]
  },
  {
   "cell_type": "code",
   "execution_count": 23,
   "metadata": {},
   "outputs": [
    {
     "data": {
      "text/plain": [
       " 2.0L I4 16V GDI DOHC Turbo                                 1138\n",
       " 3.6L V6 24V MPFI DOHC                                       305\n",
       " 1.5L I4 16V GDI DOHC Turbo                                  272\n",
       " 2.0L I4 16V MPFI DOHC                                       267\n",
       " 3.5L V6 24V MPFI DOHC                                       264\n",
       " 3.6L V6 24V GDI DOHC                                        211\n",
       " 3.5L V6 24V PDI DOHC                                        200\n",
       " 5.3L V8 16V GDI OHV                                         191\n",
       " 2.4L I4 16V GDI DOHC                                        190\n",
       " 2.5L I4 16V MPFI DOHC                                       174\n",
       " 2.5L I4 16V GDI DOHC                                        173\n",
       " Intercooled Turbo Premium Unleaded I-4 2.0 L/122            168\n",
       " Electric                                                    166\n",
       " Intercooled Turbo Premium Unleaded I-4 2.0 L/121            151\n",
       " 1.8L I4 16V MPFI DOHC                                       141\n",
       " 2.4L I4 16V MPFI SOHC                                       139\n",
       " 5.7L V8 16V MPFI OHV                                        138\n",
       " 3.0L V6 24V GDI DOHC Twin Turbo                             133\n",
       " 2.5L H4 16V MPFI DOHC                                       126\n",
       " 2.0L I4 16V GDI DOHC                                        125\n",
       " 3.5L V6 24V GDI SOHC                                        122\n",
       " 3.0L I6 24V GDI DOHC Turbo                                  122\n",
       " 2.5L I4 16V PDI DOHC                                        120\n",
       " 1.6L I4 16V GDI DOHC Turbo                                  113\n",
       " 3.5L V6 24V GDI DOHC                                        108\n",
       " 6.6L V8 32V DDI OHV Turbo Diesel                            101\n",
       " 2.4L I4 16V MPFI DOHC                                       100\n",
       " 3.5L V6 24V GDI DOHC Twin Turbo                              97\n",
       " 4.0L V6 24V MPFI DOHC                                        94\n",
       " 3.0L V6 24V GDI DOHC Turbo                                   89\n",
       " Regular Unleaded V-6 3.6 L/220                               87\n",
       " 1.4L I4 16V GDI DOHC Turbo                                   86\n",
       " 6.7L V8 32V DDI OHV Turbo Diesel                             84\n",
       " 3.5L V6 24V MPFI SOHC                                        81\n",
       " 2.0L H4 16V GDI DOHC                                         74\n",
       " 3.0L V6 24V GDI DOHC Supercharged                            73\n",
       " 1.6L I4 16V MPFI DOHC                                        69\n",
       " 2.5L H4 16V GDI DOHC                                         67\n",
       " Intercooled Supercharger Premium Unleaded V-6 3.0 L/183      65\n",
       " 6.2L V8 16V GDI OHV                                          63\n",
       " 1.8L I4 16V MPFI DOHC Hybrid                                 62\n",
       " 3.0L V6 24V DDI DOHC Turbo Diesel                            57\n",
       " 2.0L I4 16V MPFI DOHC Hybrid                                 52\n",
       " Regular Unleaded V-6 3.5 L/211                               46\n",
       " 3.5L V6 24V PDI DOHC Twin Turbo                              45\n",
       " 1.5L I4 16V GDI DOHC                                         45\n",
       " 4.4L V8 32V GDI DOHC Twin Turbo                              44\n",
       " 3.6L V6 24V MPFI DOHC Flexible Fuel                          44\n",
       " 5.2L V8 32V MPFI DOHC Supercharged                           44\n",
       " 1.8L I4 16V GDI DOHC Turbo                                   44\n",
       " 3.7L V6 24V MPFI DOHC                                        42\n",
       " Regular Unleaded I-4 2.5 L/152                               41\n",
       " Twin Turbo Premium Unleaded V-6 3.0 L/183                    41\n",
       " 1.8L I4 16V MPFI SOHC                                        41\n",
       " 6.0L V8 16V MPFI OHV                                         40\n",
       " 5.0L V8 32V PDI DOHC                                         40\n",
       " 2.0L I4 16V GDI DOHC Turbo Hybrid                            39\n",
       " 2.3L I4 16V GDI DOHC Turbo                                   39\n",
       " 2.5L I4 16V                                                  38\n",
       " 6.7L I6 24V DDI OHV Turbo Diesel                             38\n",
       "Name: Engine, dtype: int64"
      ]
     },
     "execution_count": 23,
     "metadata": {},
     "output_type": "execute_result"
    }
   ],
   "source": [
    "df.Engine.value_counts().head(60)"
   ]
  },
  {
   "cell_type": "code",
   "execution_count": 24,
   "metadata": {},
   "outputs": [],
   "source": [
    "def car_engine(engine):\n",
    "    '''returns the cleaned up engine input.'''\n",
    "    \n",
    "    if 'intercooled' in engine.lower() or 'regular' in engine.lower() or 'electric' in engine.lower():\n",
    "        return engine.strip().split(' ')[0]\n",
    "    \n",
    "    elif '-1' in engine.lower():\n",
    "        return None\n",
    "    \n",
    "    elif 'twin' in engine.lower():\n",
    "        return engine.strip(' ')[0:2]\n",
    "    \n",
    "    else:\n",
    "        return engine.strip().split(' ')[0]"
   ]
  },
  {
   "cell_type": "code",
   "execution_count": 25,
   "metadata": {},
   "outputs": [
    {
     "data": {
      "text/plain": [
       "2.0L           1984\n",
       "2.5L            887\n",
       "3.5L            830\n",
       "3.6L            635\n",
       "Intercooled     565\n",
       "2.4L            481\n",
       "3.0L            445\n",
       "1.5L            380\n",
       "Regular         329\n",
       "3.              321\n",
       "1.8L            297\n",
       "1.6L            263\n",
       "5.3L            227\n",
       "5.7L            184\n",
       "Electric        166\n",
       "1.4L            131\n",
       "4.0L            125\n",
       "6.7L            122\n",
       "6.6L            101\n",
       "6.2L             97\n",
       "Name: Engine, dtype: int64"
      ]
     },
     "execution_count": 25,
     "metadata": {},
     "output_type": "execute_result"
    }
   ],
   "source": [
    "df['Engine'] = df['Engine'].apply(car_engine)\n",
    "df.Engine.value_counts().head(20)"
   ]
  },
  {
   "cell_type": "code",
   "execution_count": 26,
   "metadata": {},
   "outputs": [
    {
     "data": {
      "text/plain": [
       "2.0L           1984\n",
       "2.5L            887\n",
       "3.5L            830\n",
       "3.6L            635\n",
       "Intercooled     565\n",
       "2.4L            481\n",
       "3.0L            445\n",
       "1.5L            380\n",
       "Regular         329\n",
       "3.              321\n",
       "1.8L            297\n",
       "1.6L            263\n",
       "5.3L            227\n",
       "5.7L            184\n",
       "Electric        166\n",
       "1.4L            131\n",
       "4.0L            125\n",
       "6.7L            122\n",
       "6.6L            101\n",
       "6.2L             97\n",
       "Name: Engine, dtype: int64"
      ]
     },
     "execution_count": 26,
     "metadata": {},
     "output_type": "execute_result"
    }
   ],
   "source": [
    "#limiting the number of categories by combining the low count engines into a single group\n",
    "engine_other = df['Engine'].value_counts()[df['Engine'].value_counts() <= df.shape[0]*0.001].index\n",
    "df['Engine'] = df['Engine'].replace(engine_other, 'Other')\n",
    "df['Engine'].value_counts().head(20)"
   ]
  },
  {
   "cell_type": "code",
   "execution_count": 27,
   "metadata": {},
   "outputs": [
    {
     "data": {
      "text/plain": [
       " 6-Speed Automatic                    2129\n",
       " 8-Speed Automatic                    1914\n",
       " Automatic                            1659\n",
       " Automatic CVT                        1376\n",
       " 9-Speed Automatic                     554\n",
       " 7-Speed Automatic with Auto-Shift     373\n",
       " 5-Speed Automatic                     372\n",
       " 4-Speed Automatic                     289\n",
       " 10-Speed Automatic                    238\n",
       " 7-Speed Automatic                     216\n",
       " 6-Speed Manual                        207\n",
       " 1-Speed Automatic                     159\n",
       " 6-Speed Automatic with Auto-Shift     133\n",
       " 5-Speed Manual                         83\n",
       " Manual                                 66\n",
       " Variable                               60\n",
       "-1                                      41\n",
       " 8-Speed Automatic with Auto-Shift      40\n",
       " CVT                                    14\n",
       " Automatic, 6-Spd                       11\n",
       "Name: Transmission, dtype: int64"
      ]
     },
     "execution_count": 27,
     "metadata": {},
     "output_type": "execute_result"
    }
   ],
   "source": [
    "#let's look at Transmission column\n",
    "df.Transmission.value_counts().head(20)"
   ]
  },
  {
   "cell_type": "code",
   "execution_count": 28,
   "metadata": {},
   "outputs": [],
   "source": [
    "def car_transmission(transmission):\n",
    "    '''returns either Automatic or Manual based on transmission input.'''\n",
    "    \n",
    "    if 'automatic' in transmission.lower():\n",
    "        return 'Automatic'\n",
    "    \n",
    "    elif 'manual' in transmission.lower():\n",
    "        return 'Manual'\n",
    "    \n",
    "    else:\n",
    "        return None"
   ]
  },
  {
   "cell_type": "code",
   "execution_count": 29,
   "metadata": {},
   "outputs": [
    {
     "data": {
      "text/plain": [
       "Automatic    9515\n",
       "Manual        362\n",
       "Name: Transmission, dtype: int64"
      ]
     },
     "execution_count": 29,
     "metadata": {},
     "output_type": "execute_result"
    }
   ],
   "source": [
    "df['Transmission'] = df['Transmission'].apply(car_transmission)\n",
    "df['Transmission'].value_counts()"
   ]
  },
  {
   "cell_type": "markdown",
   "metadata": {},
   "source": [
    "## 6. Counting Entertainment and Safety Features"
   ]
  },
  {
   "cell_type": "code",
   "execution_count": 30,
   "metadata": {},
   "outputs": [
    {
     "name": "stdout",
     "output_type": "stream",
     "text": [
      "0                ['Bluetooth', 'Premium Sound System']\n",
      "1    ['Bluetooth', 'Premium Sound System', 'Apple C...\n",
      "2                                                   -1\n",
      "3                ['Bluetooth', 'Premium Sound System']\n",
      "4                ['Bluetooth', 'Premium Sound System']\n",
      "Name: Entertainment, dtype: object\n",
      "0    ['Brake Assist', 'Stability Control', 'Automat...\n",
      "1    ['Backup Camera', 'Brake Assist', 'Stability C...\n",
      "2                ['Brake Assist', 'Stability Control']\n",
      "3    ['Backup Camera', 'Brake Assist', 'Stability C...\n",
      "4    ['Backup Camera', 'Brake Assist', 'Stability C...\n",
      "Name: Safety, dtype: object\n"
     ]
    }
   ],
   "source": [
    "print(df['Entertainment'].head())\n",
    "print(df['Safety'].head())"
   ]
  },
  {
   "cell_type": "code",
   "execution_count": 31,
   "metadata": {},
   "outputs": [],
   "source": [
    "#defining functions to extract the number of safety and entertainment features\n",
    "def car_safety_count(safety):\n",
    "    \n",
    "    if '-1' in safety.lower():\n",
    "        return None\n",
    "    else:\n",
    "        return len(safety.split(','))\n",
    "\n",
    "def car_entertainment_count(entertainment):\n",
    "    \n",
    "    if '-1' in entertainment.lower():\n",
    "        return None\n",
    "    else:\n",
    "        return len(entertainment.split(','))"
   ]
  },
  {
   "cell_type": "code",
   "execution_count": 32,
   "metadata": {},
   "outputs": [],
   "source": [
    "df['Safety'] = df['Safety'].apply(car_safety_count)\n",
    "df['Entertainment'] = df['Entertainment'].apply(car_entertainment_count)"
   ]
  },
  {
   "cell_type": "code",
   "execution_count": 33,
   "metadata": {},
   "outputs": [],
   "source": [
    "#changing the columns names\n",
    "df.rename(columns={'Entertainment': 'Entertainment Count', 'Safety': 'Safety Count'}, inplace=True)"
   ]
  },
  {
   "cell_type": "markdown",
   "metadata": {},
   "source": [
    "## 7. Cleaning Interior and Exterior Colors"
   ]
  },
  {
   "cell_type": "code",
   "execution_count": 34,
   "metadata": {},
   "outputs": [
    {
     "data": {
      "text/plain": [
       " Black                      3819\n",
       "-1                          1546\n",
       " Gray                        823\n",
       " Jet Black                   471\n",
       " Ebony                       323\n",
       " Charcoal                    240\n",
       " Titan Black                 209\n",
       " Beige                       162\n",
       " Graphite                    150\n",
       " Charcoal Black               94\n",
       " Tan                          74\n",
       " Ash                          62\n",
       " Ivory                        59\n",
       " Dark Gray                    54\n",
       " Carbon Black                 52\n",
       " Ebony Black                  41\n",
       " Parchment                    36\n",
       " Medium Earth Gray            34\n",
       " Light Gray                   34\n",
       " Sport                        31\n",
       " Black / Red                  29\n",
       " Brown                        29\n",
       " Red                          28\n",
       " Ebony / Ebony                28\n",
       " Diesel Gray / Black          28\n",
       " Dark Slate Gray              26\n",
       " Nero                         26\n",
       " Medium Ash Gray              22\n",
       " Medium Light Stone           22\n",
       " Bisque                       21\n",
       " Espresso                     21\n",
       " Mocha                        21\n",
       " Taupe                        19\n",
       " Dark Earth Gray              19\n",
       " Ebony/Ebony/Ebony/Ebony      19\n",
       " Venetian Beige               18\n",
       " Gray 2-Tone                  17\n",
       " Almond                       17\n",
       " Gray / Black                 17\n",
       " Ivy                          16\n",
       " Cocoa / Dune                 16\n",
       " Shale                        16\n",
       " Red / Black                  15\n",
       " Medium Pewter                14\n",
       " Diesel Gray/Black            14\n",
       " Black Graphite               14\n",
       " Oyster                       13\n",
       " Black / Light Graystone      13\n",
       " Ginger                       13\n",
       " Saddle Brown                 12\n",
       "Name: Interior Color, dtype: int64"
      ]
     },
     "execution_count": 34,
     "metadata": {},
     "output_type": "execute_result"
    }
   ],
   "source": [
    "#let's look into Interior colors\n",
    "df['Interior Color'].value_counts().head(50)"
   ]
  },
  {
   "cell_type": "code",
   "execution_count": 35,
   "metadata": {},
   "outputs": [],
   "source": [
    "def car_interior_color(interior_color):\n",
    "\n",
    "    if 'black' in interior_color.lower():\n",
    "        return 'Black'\n",
    "    \n",
    "    elif 'gray' in interior_color.lower():\n",
    "        return 'Gray'\n",
    "    \n",
    "    elif 'charcoal' in interior_color.lower():\n",
    "        return 'Charcoal'\n",
    "    \n",
    "    elif 'graphite' in interior_color.lower():\n",
    "        return 'Graphite'\n",
    "   \n",
    "    elif 'ebony' in interior_color.lower() or 'ebony black' in interior_color.lower():\n",
    "        return 'Ebony'\n",
    "    \n",
    "    elif 'red' in interior_color.lower() or 'ginger' in interior_color.lower():\n",
    "        return 'Red'\n",
    "    \n",
    "    elif 'cocoa' in interior_color.lower() or 'almond' in interior_color.lower() or 'espresso' in interior_color.lower() or 'mocha' in interior_color.lower() or 'brown' in interior_color.lower():\n",
    "        return 'Brown'\n",
    "    \n",
    "    elif 'beige' in interior_color.lower():\n",
    "        return 'Beige'\n",
    "    \n",
    "    elif '-1' in interior_color.lower():\n",
    "        return np.nan\n",
    "    \n",
    "    else:\n",
    "        return 'Other'"
   ]
  },
  {
   "cell_type": "code",
   "execution_count": 36,
   "metadata": {},
   "outputs": [
    {
     "data": {
      "text/plain": [
       "Black       5096\n",
       "Gray        1142\n",
       "Other        822\n",
       "Ebony        430\n",
       "Charcoal     253\n",
       "Beige        244\n",
       "Brown        239\n",
       "Graphite     160\n",
       "Red           83\n",
       "Name: Interior Color, dtype: int64"
      ]
     },
     "execution_count": 36,
     "metadata": {},
     "output_type": "execute_result"
    }
   ],
   "source": [
    "df['Interior Color'] = df['Interior Color'].apply(car_interior_color)\n",
    "df['Interior Color'].value_counts()"
   ]
  },
  {
   "cell_type": "code",
   "execution_count": 37,
   "metadata": {},
   "outputs": [
    {
     "data": {
      "text/plain": [
       " Black                                 749\n",
       " White                                 550\n",
       " Gray                                  368\n",
       " Silver                                313\n",
       "-1                                     218\n",
       " Blue                                  176\n",
       " Red                                   161\n",
       " Summit White                          158\n",
       " Bright White Clearcoat                127\n",
       " Alpine White                          114\n",
       " Oxford White                          109\n",
       " Super White                           100\n",
       " Black Sapphire Metallic                96\n",
       " Pure White                             87\n",
       " Crystal White Pearl                    81\n",
       " Polar White                            73\n",
       " Crystal Black Pearl                    73\n",
       " Granite Crystal Clearcoat Metallic     73\n",
       " Jet Black                              70\n",
       " Gun Metallic                           69\n",
       " Magnetic Gray Metallic                 69\n",
       " Billet Silver Metallic Clearcoat       67\n",
       " Silver Ice Metallic                    64\n",
       " Black Clearcoat                        64\n",
       " Modern Steel Metallic                  64\n",
       " Ice Silver Metallic                    63\n",
       " Shadow Black                           59\n",
       " Deep Black Pearl Effect                59\n",
       " Mythos Black Metallic                  57\n",
       " Midnight Black Metallic                57\n",
       " Glacier Silver Metallic                56\n",
       " Lunar Silver Metallic                  46\n",
       " Crystal Black Silica                   46\n",
       " Platinum Gray Metallic                 45\n",
       " Fuji White                             45\n",
       " Satin Steel Metallic                   44\n",
       " Atomic Silver                          44\n",
       " Jet Black Mica                         43\n",
       " Mineral Gray Metallic                  42\n",
       " Diamond Black                          41\n",
       " Onyx Black                             41\n",
       " Dark Gray Metallic                     40\n",
       " Brilliant Black                        39\n",
       " Blizzard Pearl                         38\n",
       " Phantom Black                          35\n",
       " White Diamond Pearl                    35\n",
       " Glacier White Metallic                 35\n",
       " Brilliant Black Crystal Pearlcoat      33\n",
       " Magnetite Gray Metallic                33\n",
       " Green                                  32\n",
       "Name: Exterior Color, dtype: int64"
      ]
     },
     "execution_count": 37,
     "metadata": {},
     "output_type": "execute_result"
    }
   ],
   "source": [
    "#now let's take a look at the exterior colors\n",
    "df['Exterior Color'].value_counts().head(50)"
   ]
  },
  {
   "cell_type": "code",
   "execution_count": 38,
   "metadata": {},
   "outputs": [],
   "source": [
    "def car_exterior_color(exterior_color):\n",
    "    \n",
    "    if 'white' in exterior_color.lower():\n",
    "        return 'White'\n",
    "    \n",
    "    elif 'gray' in exterior_color.lower():\n",
    "        return 'Gray'\n",
    "    \n",
    "    elif 'black' in exterior_color.lower():\n",
    "        return 'Black'\n",
    "    \n",
    "    elif 'metallic' in exterior_color.lower():\n",
    "        return 'Metallic'\n",
    "    \n",
    "    elif 'silver' in exterior_color.lower():\n",
    "        return 'Silver'\n",
    "    \n",
    "    elif 'blue' in exterior_color.lower():\n",
    "        return 'Blue'\n",
    "    \n",
    "    elif 'red' in exterior_color.lower():\n",
    "        return 'Red'\n",
    "    \n",
    "    elif '-1' in exterior_color.lower():\n",
    "        return np.nan\n",
    "    \n",
    "    else:\n",
    "        return 'Other'"
   ]
  },
  {
   "cell_type": "code",
   "execution_count": 39,
   "metadata": {},
   "outputs": [
    {
     "data": {
      "text/plain": [
       "White       2141\n",
       "Black       2107\n",
       "Metallic    1997\n",
       "Gray        1134\n",
       "Other        811\n",
       "Silver       567\n",
       "Red          557\n",
       "Blue         483\n",
       "Name: Exterior Color, dtype: int64"
      ]
     },
     "execution_count": 39,
     "metadata": {},
     "output_type": "execute_result"
    }
   ],
   "source": [
    "df['Exterior Color'] = df['Exterior Color'].apply(car_exterior_color)\n",
    "df['Exterior Color'].value_counts()"
   ]
  },
  {
   "cell_type": "markdown",
   "metadata": {},
   "source": [
    "## 8. Extracting the Zipcodes"
   ]
  },
  {
   "cell_type": "code",
   "execution_count": 40,
   "metadata": {},
   "outputs": [
    {
     "name": "stdout",
     "output_type": "stream",
     "text": [
      "0    Portland, OR 97214\n",
      "1    Portland, OR 97201\n",
      "2    Portland, OR 97232\n",
      "3    Portland, OR 97209\n",
      "4    Portland, OR 97239\n",
      "Name: Address, dtype: object\n",
      "10010          Omak, WA 98841\n",
      "10011          Omak, WA 98841\n",
      "10012          Omak, WA 98841\n",
      "10013     Washougal, WA 98671\n",
      "10014    Moses Lake, WA 98837\n",
      "Name: Address, dtype: object\n"
     ]
    }
   ],
   "source": [
    "print(df['Address'].head())\n",
    "print(df['Address'].tail())"
   ]
  },
  {
   "cell_type": "code",
   "execution_count": 41,
   "metadata": {},
   "outputs": [],
   "source": [
    "def car_zipcode(address):\n",
    "    return address.strip().split(' ')[2]"
   ]
  },
  {
   "cell_type": "code",
   "execution_count": 42,
   "metadata": {},
   "outputs": [
    {
     "data": {
      "text/plain": [
       "97267    478\n",
       "97225    456\n",
       "97301    422\n",
       "98005    384\n",
       "98101    371\n",
       "        ... \n",
       "98926      1\n",
       "98801      1\n",
       "98665      1\n",
       "98584      1\n",
       "98902      1\n",
       "Name: Zipcode, Length: 112, dtype: int64"
      ]
     },
     "execution_count": 42,
     "metadata": {},
     "output_type": "execute_result"
    }
   ],
   "source": [
    "df['Zipcode'] = df['Address'].apply(car_zipcode)\n",
    "df['Zipcode'].value_counts()"
   ]
  },
  {
   "cell_type": "markdown",
   "metadata": {},
   "source": [
    "## 9. Checking Up on Fuel Type"
   ]
  },
  {
   "cell_type": "code",
   "execution_count": 43,
   "metadata": {},
   "outputs": [
    {
     "data": {
      "text/plain": [
       " Gasoline                  8688\n",
       " Hybrid                     415\n",
       " Diesel                     413\n",
       " E85 Flex Fuel              327\n",
       " Electric                   168\n",
       " Unknown                      3\n",
       " Compressed Natural Gas       1\n",
       "Name: Fuel Type, dtype: int64"
      ]
     },
     "execution_count": 43,
     "metadata": {},
     "output_type": "execute_result"
    }
   ],
   "source": [
    "df['Fuel Type'].value_counts()"
   ]
  },
  {
   "cell_type": "markdown",
   "metadata": {},
   "source": [
    "## 10. A Closer Look into the Data"
   ]
  },
  {
   "cell_type": "code",
   "execution_count": 44,
   "metadata": {},
   "outputs": [
    {
     "name": "stdout",
     "output_type": "stream",
     "text": [
      "<class 'pandas.core.frame.DataFrame'>\n",
      "RangeIndex: 10015 entries, 0 to 10014\n",
      "Data columns (total 19 columns):\n",
      " #   Column               Non-Null Count  Dtype  \n",
      "---  ------               --------------  -----  \n",
      " 0   Name                 10015 non-null  object \n",
      " 1   Mileage              10015 non-null  int64  \n",
      " 2   Address              10015 non-null  object \n",
      " 3   Rating               10015 non-null  float64\n",
      " 4   Fuel Type            10015 non-null  object \n",
      " 5   City MPG             10015 non-null  int64  \n",
      " 6   Highway MPG          10015 non-null  int64  \n",
      " 7   Drivetrain           9995 non-null   object \n",
      " 8   Engine               10006 non-null  object \n",
      " 9   Exterior Color       9797 non-null   object \n",
      " 10  Interior Color       8469 non-null   object \n",
      " 11  Transmission         9877 non-null   object \n",
      " 12  Entertainment Count  9091 non-null   float64\n",
      " 13  Safety Count         9604 non-null   float64\n",
      " 14  Price                10015 non-null  int64  \n",
      " 15  Built Year           10015 non-null  int64  \n",
      " 16  Make                 10015 non-null  object \n",
      " 17  Model                10015 non-null  object \n",
      " 18  Zipcode              10015 non-null  object \n",
      "dtypes: float64(3), int64(5), object(11)\n",
      "memory usage: 1.5+ MB\n"
     ]
    }
   ],
   "source": [
    "df.info()"
   ]
  },
  {
   "cell_type": "markdown",
   "metadata": {},
   "source": [
    "As we can see we have some null data in some of our features! Now the question is if we should drop them or do more EDA and find correlations before we do so!?"
   ]
  },
  {
   "cell_type": "code",
   "execution_count": 45,
   "metadata": {},
   "outputs": [
    {
     "data": {
      "text/plain": [
       "Name                      0\n",
       "Mileage                   0\n",
       "Address                   0\n",
       "Rating                    0\n",
       "Fuel Type                 0\n",
       "City MPG                  0\n",
       "Highway MPG               0\n",
       "Drivetrain               20\n",
       "Engine                    9\n",
       "Exterior Color          218\n",
       "Interior Color         1546\n",
       "Transmission            138\n",
       "Entertainment Count     924\n",
       "Safety Count            411\n",
       "Price                     0\n",
       "Built Year                0\n",
       "Make                      0\n",
       "Model                     0\n",
       "Zipcode                   0\n",
       "dtype: int64"
      ]
     },
     "execution_count": 45,
     "metadata": {},
     "output_type": "execute_result"
    }
   ],
   "source": [
    "#Let's see how many null values we have for each feature\n",
    "df.isna().sum()"
   ]
  },
  {
   "cell_type": "markdown",
   "metadata": {},
   "source": [
    "For categorical features such as Exterior and Interior color, we can input Unknown for NaN values so later on when we encode these features we don't lose other important data!\n",
    "For Drivetrain and Transmission we can impute the most common value for the NaN values!\n",
    "For the numerical data such as Safey and Entertainment Counts we can impute the median data!\n",
    "Last but not least, we can just drop the 'NaN' values for Engine since it's not many!"
   ]
  },
  {
   "cell_type": "code",
   "execution_count": 46,
   "metadata": {},
   "outputs": [],
   "source": [
    "#filling Unknown for NaN values in Interior and Exterior Colors\n",
    "df['Interior Color']=df['Interior Color'].fillna(\"Unknown\")\n",
    "df['Exterior Color']=df['Exterior Color'].fillna(\"Unknown\")"
   ]
  },
  {
   "cell_type": "code",
   "execution_count": 47,
   "metadata": {},
   "outputs": [
    {
     "data": {
      "text/plain": [
       "AWD        3941\n",
       "FWD        2937\n",
       "4WD        2306\n",
       "RWD         808\n",
       "Quattro       2\n",
       "4MATIC        1\n",
       "Name: Drivetrain, dtype: int64"
      ]
     },
     "execution_count": 47,
     "metadata": {},
     "output_type": "execute_result"
    }
   ],
   "source": [
    "df['Drivetrain'].value_counts()"
   ]
  },
  {
   "cell_type": "code",
   "execution_count": 48,
   "metadata": {},
   "outputs": [
    {
     "data": {
      "text/plain": [
       "Automatic    9515\n",
       "Manual        362\n",
       "Name: Transmission, dtype: int64"
      ]
     },
     "execution_count": 48,
     "metadata": {},
     "output_type": "execute_result"
    }
   ],
   "source": [
    "df['Transmission'].value_counts()"
   ]
  },
  {
   "cell_type": "code",
   "execution_count": 49,
   "metadata": {},
   "outputs": [],
   "source": [
    "#filling the NaN values by the common values in Drivetrain and Transmission columns\n",
    "df['Drivetrain']=df['Drivetrain'].fillna(\"AWD\")\n",
    "df['Transmission']=df['Transmission'].fillna(\"Automatic\")"
   ]
  },
  {
   "cell_type": "code",
   "execution_count": 50,
   "metadata": {},
   "outputs": [],
   "source": [
    "#filling NaN values by the median values in Safety and Entertainment Counts\n",
    "df['Safety Count']=df['Safety Count'].fillna(df['Safety Count'].median())\n",
    "df['Entertainment Count']=df['Entertainment Count'].fillna(df['Entertainment Count'].median())"
   ]
  },
  {
   "cell_type": "code",
   "execution_count": 51,
   "metadata": {},
   "outputs": [],
   "source": [
    "#Droping NaN values in Engine column\n",
    "df.Engine.dropna(inplace=True)"
   ]
  },
  {
   "cell_type": "code",
   "execution_count": 52,
   "metadata": {},
   "outputs": [
    {
     "data": {
      "text/plain": [
       "Name                   0\n",
       "Mileage                0\n",
       "Address                0\n",
       "Rating                 0\n",
       "Fuel Type              0\n",
       "City MPG               0\n",
       "Highway MPG            0\n",
       "Drivetrain             0\n",
       "Engine                 9\n",
       "Exterior Color         0\n",
       "Interior Color         0\n",
       "Transmission           0\n",
       "Entertainment Count    0\n",
       "Safety Count           0\n",
       "Price                  0\n",
       "Built Year             0\n",
       "Make                   0\n",
       "Model                  0\n",
       "Zipcode                0\n",
       "dtype: int64"
      ]
     },
     "execution_count": 52,
     "metadata": {},
     "output_type": "execute_result"
    }
   ],
   "source": [
    "#Let's check on Interior and Exterior null values again\n",
    "df.isna().sum()"
   ]
  },
  {
   "cell_type": "code",
   "execution_count": 53,
   "metadata": {},
   "outputs": [
    {
     "data": {
      "text/html": [
       "<div>\n",
       "<style scoped>\n",
       "    .dataframe tbody tr th:only-of-type {\n",
       "        vertical-align: middle;\n",
       "    }\n",
       "\n",
       "    .dataframe tbody tr th {\n",
       "        vertical-align: top;\n",
       "    }\n",
       "\n",
       "    .dataframe thead th {\n",
       "        text-align: right;\n",
       "    }\n",
       "</style>\n",
       "<table border=\"1\" class=\"dataframe\">\n",
       "  <thead>\n",
       "    <tr style=\"text-align: right;\">\n",
       "      <th></th>\n",
       "      <th>Mileage</th>\n",
       "      <th>Rating</th>\n",
       "      <th>City MPG</th>\n",
       "      <th>Highway MPG</th>\n",
       "      <th>Entertainment Count</th>\n",
       "      <th>Safety Count</th>\n",
       "      <th>Price</th>\n",
       "      <th>Built Year</th>\n",
       "    </tr>\n",
       "  </thead>\n",
       "  <tbody>\n",
       "    <tr>\n",
       "      <th>count</th>\n",
       "      <td>10015.000000</td>\n",
       "      <td>10015.000000</td>\n",
       "      <td>10015.000000</td>\n",
       "      <td>10015.000000</td>\n",
       "      <td>10015.000000</td>\n",
       "      <td>10015.000000</td>\n",
       "      <td>10015.000000</td>\n",
       "      <td>10015.000000</td>\n",
       "    </tr>\n",
       "    <tr>\n",
       "      <th>mean</th>\n",
       "      <td>43494.324314</td>\n",
       "      <td>4.246111</td>\n",
       "      <td>21.325412</td>\n",
       "      <td>28.780829</td>\n",
       "      <td>1.844034</td>\n",
       "      <td>3.588517</td>\n",
       "      <td>30270.861008</td>\n",
       "      <td>2016.743285</td>\n",
       "    </tr>\n",
       "    <tr>\n",
       "      <th>std</th>\n",
       "      <td>42642.685523</td>\n",
       "      <td>0.785822</td>\n",
       "      <td>14.716679</td>\n",
       "      <td>23.183260</td>\n",
       "      <td>0.683655</td>\n",
       "      <td>1.420318</td>\n",
       "      <td>18517.694989</td>\n",
       "      <td>4.252315</td>\n",
       "    </tr>\n",
       "    <tr>\n",
       "      <th>min</th>\n",
       "      <td>1.000000</td>\n",
       "      <td>1.000000</td>\n",
       "      <td>-1.000000</td>\n",
       "      <td>-1.000000</td>\n",
       "      <td>1.000000</td>\n",
       "      <td>1.000000</td>\n",
       "      <td>995.000000</td>\n",
       "      <td>1963.000000</td>\n",
       "    </tr>\n",
       "    <tr>\n",
       "      <th>25%</th>\n",
       "      <td>15994.000000</td>\n",
       "      <td>4.000000</td>\n",
       "      <td>17.000000</td>\n",
       "      <td>23.000000</td>\n",
       "      <td>1.000000</td>\n",
       "      <td>3.000000</td>\n",
       "      <td>18537.000000</td>\n",
       "      <td>2016.000000</td>\n",
       "    </tr>\n",
       "    <tr>\n",
       "      <th>50%</th>\n",
       "      <td>30421.000000</td>\n",
       "      <td>4.500000</td>\n",
       "      <td>20.000000</td>\n",
       "      <td>27.000000</td>\n",
       "      <td>2.000000</td>\n",
       "      <td>3.000000</td>\n",
       "      <td>26997.000000</td>\n",
       "      <td>2018.000000</td>\n",
       "    </tr>\n",
       "    <tr>\n",
       "      <th>75%</th>\n",
       "      <td>59460.000000</td>\n",
       "      <td>4.800000</td>\n",
       "      <td>24.000000</td>\n",
       "      <td>33.000000</td>\n",
       "      <td>2.000000</td>\n",
       "      <td>5.000000</td>\n",
       "      <td>37898.000000</td>\n",
       "      <td>2019.000000</td>\n",
       "    </tr>\n",
       "    <tr>\n",
       "      <th>max</th>\n",
       "      <td>463842.000000</td>\n",
       "      <td>5.000000</td>\n",
       "      <td>224.000000</td>\n",
       "      <td>414.000000</td>\n",
       "      <td>4.000000</td>\n",
       "      <td>7.000000</td>\n",
       "      <td>359995.000000</td>\n",
       "      <td>2021.000000</td>\n",
       "    </tr>\n",
       "  </tbody>\n",
       "</table>\n",
       "</div>"
      ],
      "text/plain": [
       "             Mileage        Rating      City MPG   Highway MPG  \\\n",
       "count   10015.000000  10015.000000  10015.000000  10015.000000   \n",
       "mean    43494.324314      4.246111     21.325412     28.780829   \n",
       "std     42642.685523      0.785822     14.716679     23.183260   \n",
       "min         1.000000      1.000000     -1.000000     -1.000000   \n",
       "25%     15994.000000      4.000000     17.000000     23.000000   \n",
       "50%     30421.000000      4.500000     20.000000     27.000000   \n",
       "75%     59460.000000      4.800000     24.000000     33.000000   \n",
       "max    463842.000000      5.000000    224.000000    414.000000   \n",
       "\n",
       "       Entertainment Count  Safety Count          Price    Built Year  \n",
       "count         10015.000000  10015.000000   10015.000000  10015.000000  \n",
       "mean              1.844034      3.588517   30270.861008   2016.743285  \n",
       "std               0.683655      1.420318   18517.694989      4.252315  \n",
       "min               1.000000      1.000000     995.000000   1963.000000  \n",
       "25%               1.000000      3.000000   18537.000000   2016.000000  \n",
       "50%               2.000000      3.000000   26997.000000   2018.000000  \n",
       "75%               2.000000      5.000000   37898.000000   2019.000000  \n",
       "max               4.000000      7.000000  359995.000000   2021.000000  "
      ]
     },
     "execution_count": 53,
     "metadata": {},
     "output_type": "execute_result"
    }
   ],
   "source": [
    "df.describe()"
   ]
  },
  {
   "cell_type": "markdown",
   "metadata": {},
   "source": [
    "The standard deviation seems abnormal for Price and Mileage features! Let's dive in:"
   ]
  },
  {
   "cell_type": "code",
   "execution_count": 54,
   "metadata": {},
   "outputs": [
    {
     "data": {
      "text/plain": [
       "Text(0.5, 1.0, 'Price Destribution')"
      ]
     },
     "execution_count": 54,
     "metadata": {},
     "output_type": "execute_result"
    },
    {
     "data": {
      "image/png": "[encoded data removed]",
      "text/plain": [
       "<Figure size 432x288 with 1 Axes>"
      ]
     },
     "metadata": {
      "needs_background": "light"
     },
     "output_type": "display_data"
    }
   ],
   "source": [
    "#checking the destribution of price\n",
    "sns.distplot(df.Price)\n",
    "plt.title(\"Price Destribution\")"
   ]
  },
  {
   "cell_type": "code",
   "execution_count": 55,
   "metadata": {},
   "outputs": [
    {
     "data": {
      "text/plain": [
       "<AxesSubplot:xlabel='Price'>"
      ]
     },
     "execution_count": 55,
     "metadata": {},
     "output_type": "execute_result"
    },
    {
     "data": {
      "image/png": "[encoded data removed]",
      "text/plain": [
       "<Figure size 432x288 with 1 Axes>"
      ]
     },
     "metadata": {
      "needs_background": "light"
     },
     "output_type": "display_data"
    }
   ],
   "source": [
    "sns.boxplot(df.Price)"
   ]
  },
  {
   "cell_type": "code",
   "execution_count": 56,
   "metadata": {},
   "outputs": [
    {
     "name": "stdout",
     "output_type": "stream",
     "text": [
      "Dataframe shape prior outlier cleaning in Price: (10015, 19)\n",
      "Dataframe shape after outlier cleaning in Price: (9891, 19)\n"
     ]
    }
   ],
   "source": [
    "#let's fix it by only keeping data with std of 3 times our mean or less\n",
    "print(\"Dataframe shape prior outlier cleaning in Price:\", df.shape)\n",
    "df = df[df.Price <= (df.Price.mean() + 3 * df.Price.std())]\n",
    "print(\"Dataframe shape after outlier cleaning in Price:\", df.shape)"
   ]
  },
  {
   "cell_type": "code",
   "execution_count": 57,
   "metadata": {},
   "outputs": [
    {
     "data": {
      "text/plain": [
       "Text(0.5, 1.0, 'Price Destribution')"
      ]
     },
     "execution_count": 57,
     "metadata": {},
     "output_type": "execute_result"
    },
    {
     "data": {
      "image/png": "[encoded data removed]",
      "text/plain": [
       "<Figure size 432x288 with 1 Axes>"
      ]
     },
     "metadata": {
      "needs_background": "light"
     },
     "output_type": "display_data"
    }
   ],
   "source": [
    "#checking the destribution of price again\n",
    "sns.distplot(df.Price)\n",
    "plt.title(\"Price Destribution\")"
   ]
  },
  {
   "cell_type": "code",
   "execution_count": 58,
   "metadata": {},
   "outputs": [
    {
     "data": {
      "text/plain": [
       "<AxesSubplot:xlabel='Price'>"
      ]
     },
     "execution_count": 58,
     "metadata": {},
     "output_type": "execute_result"
    },
    {
     "data": {
      "image/png": "[encoded data removed]",
      "text/plain": [
       "<Figure size 432x288 with 1 Axes>"
      ]
     },
     "metadata": {
      "needs_background": "light"
     },
     "output_type": "display_data"
    }
   ],
   "source": [
    "sns.boxplot(df.Price)"
   ]
  },
  {
   "cell_type": "code",
   "execution_count": 59,
   "metadata": {},
   "outputs": [
    {
     "data": {
      "text/plain": [
       "Text(0.5, 1.0, 'Mileage Distribution')"
      ]
     },
     "execution_count": 59,
     "metadata": {},
     "output_type": "execute_result"
    },
    {
     "data": {
      "image/png": "[encoded data removed]",
      "text/plain": [
       "<Figure size 432x288 with 1 Axes>"
      ]
     },
     "metadata": {
      "needs_background": "light"
     },
     "output_type": "display_data"
    }
   ],
   "source": [
    "#Now let's lookinto Mileage data\n",
    "sns.distplot(df.Mileage)\n",
    "plt.title('Mileage Distribution')"
   ]
  },
  {
   "cell_type": "code",
   "execution_count": 60,
   "metadata": {},
   "outputs": [
    {
     "name": "stdout",
     "output_type": "stream",
     "text": [
      "Dataframe shape prior outlier cleaning in Mileage: (9891, 19)\n",
      "Dataframe shape after outlier cleaning in Mileage: (9815, 19)\n"
     ]
    }
   ],
   "source": [
    "#let's fix it by only keeping Mileages less than 200,500 miles\n",
    "print(\"Dataframe shape prior outlier cleaning in Mileage:\", df.shape)\n",
    "df = df[df.Mileage <= 200500]\n",
    "print(\"Dataframe shape after outlier cleaning in Mileage:\", df.shape)"
   ]
  },
  {
   "cell_type": "code",
   "execution_count": 61,
   "metadata": {},
   "outputs": [
    {
     "data": {
      "text/plain": [
       "Text(0.5, 1.0, 'Mileage Distribution')"
      ]
     },
     "execution_count": 61,
     "metadata": {},
     "output_type": "execute_result"
    },
    {
     "data": {
      "image/png": "[encoded data removed]",
      "text/plain": [
       "<Figure size 432x288 with 1 Axes>"
      ]
     },
     "metadata": {
      "needs_background": "light"
     },
     "output_type": "display_data"
    }
   ],
   "source": [
    "#Another look at the distribution post cleaning\n",
    "sns.distplot(df.Mileage)\n",
    "plt.title('Mileage Distribution')"
   ]
  },
  {
   "cell_type": "code",
   "execution_count": 62,
   "metadata": {},
   "outputs": [
    {
     "data": {
      "text/plain": [
       "996"
      ]
     },
     "execution_count": 62,
     "metadata": {},
     "output_type": "execute_result"
    }
   ],
   "source": [
    "#checking count of duplicate data\n",
    "df.duplicated().sum()"
   ]
  },
  {
   "cell_type": "code",
   "execution_count": 63,
   "metadata": {},
   "outputs": [
    {
     "name": "stdout",
     "output_type": "stream",
     "text": [
      "Shape of data prior dropping duplicates (9815, 19)\n",
      "Shape of data after dropping duplicates (8819, 19)\n"
     ]
    }
   ],
   "source": [
    "#dropping duplicate data\n",
    "print(\"Shape of data prior dropping duplicates\", df.shape)\n",
    "df.drop_duplicates(inplace=True)\n",
    "print(\"Shape of data after dropping duplicates\", df.shape)"
   ]
  },
  {
   "cell_type": "code",
   "execution_count": 64,
   "metadata": {},
   "outputs": [
    {
     "data": {
      "text/html": [
       "<div>\n",
       "<style scoped>\n",
       "    .dataframe tbody tr th:only-of-type {\n",
       "        vertical-align: middle;\n",
       "    }\n",
       "\n",
       "    .dataframe tbody tr th {\n",
       "        vertical-align: top;\n",
       "    }\n",
       "\n",
       "    .dataframe thead th {\n",
       "        text-align: right;\n",
       "    }\n",
       "</style>\n",
       "<table border=\"1\" class=\"dataframe\">\n",
       "  <thead>\n",
       "    <tr style=\"text-align: right;\">\n",
       "      <th></th>\n",
       "      <th>Mileage</th>\n",
       "      <th>Rating</th>\n",
       "      <th>City MPG</th>\n",
       "      <th>Highway MPG</th>\n",
       "      <th>Entertainment Count</th>\n",
       "      <th>Safety Count</th>\n",
       "      <th>Price</th>\n",
       "      <th>Built Year</th>\n",
       "    </tr>\n",
       "  </thead>\n",
       "  <tbody>\n",
       "    <tr>\n",
       "      <th>count</th>\n",
       "      <td>8819.000000</td>\n",
       "      <td>8819.000000</td>\n",
       "      <td>8819.000000</td>\n",
       "      <td>8819.000000</td>\n",
       "      <td>8819.000000</td>\n",
       "      <td>8819.000000</td>\n",
       "      <td>8819.000000</td>\n",
       "      <td>8819.000000</td>\n",
       "    </tr>\n",
       "    <tr>\n",
       "      <th>mean</th>\n",
       "      <td>42803.285633</td>\n",
       "      <td>4.228030</td>\n",
       "      <td>21.459349</td>\n",
       "      <td>28.921193</td>\n",
       "      <td>1.831047</td>\n",
       "      <td>3.569792</td>\n",
       "      <td>29273.745096</td>\n",
       "      <td>2016.810183</td>\n",
       "    </tr>\n",
       "    <tr>\n",
       "      <th>std</th>\n",
       "      <td>38930.749214</td>\n",
       "      <td>0.797411</td>\n",
       "      <td>15.270756</td>\n",
       "      <td>23.871267</td>\n",
       "      <td>0.684556</td>\n",
       "      <td>1.417489</td>\n",
       "      <td>14741.860930</td>\n",
       "      <td>4.034978</td>\n",
       "    </tr>\n",
       "    <tr>\n",
       "      <th>min</th>\n",
       "      <td>1.000000</td>\n",
       "      <td>1.000000</td>\n",
       "      <td>-1.000000</td>\n",
       "      <td>-1.000000</td>\n",
       "      <td>1.000000</td>\n",
       "      <td>1.000000</td>\n",
       "      <td>2488.000000</td>\n",
       "      <td>1963.000000</td>\n",
       "    </tr>\n",
       "    <tr>\n",
       "      <th>25%</th>\n",
       "      <td>16751.000000</td>\n",
       "      <td>3.900000</td>\n",
       "      <td>17.000000</td>\n",
       "      <td>23.000000</td>\n",
       "      <td>1.000000</td>\n",
       "      <td>3.000000</td>\n",
       "      <td>18990.000000</td>\n",
       "      <td>2016.000000</td>\n",
       "    </tr>\n",
       "    <tr>\n",
       "      <th>50%</th>\n",
       "      <td>30875.000000</td>\n",
       "      <td>4.500000</td>\n",
       "      <td>20.000000</td>\n",
       "      <td>28.000000</td>\n",
       "      <td>2.000000</td>\n",
       "      <td>3.000000</td>\n",
       "      <td>26996.000000</td>\n",
       "      <td>2018.000000</td>\n",
       "    </tr>\n",
       "    <tr>\n",
       "      <th>75%</th>\n",
       "      <td>59084.000000</td>\n",
       "      <td>4.800000</td>\n",
       "      <td>24.000000</td>\n",
       "      <td>33.000000</td>\n",
       "      <td>2.000000</td>\n",
       "      <td>5.000000</td>\n",
       "      <td>37104.500000</td>\n",
       "      <td>2019.000000</td>\n",
       "    </tr>\n",
       "    <tr>\n",
       "      <th>max</th>\n",
       "      <td>200428.000000</td>\n",
       "      <td>5.000000</td>\n",
       "      <td>224.000000</td>\n",
       "      <td>414.000000</td>\n",
       "      <td>4.000000</td>\n",
       "      <td>7.000000</td>\n",
       "      <td>84999.000000</td>\n",
       "      <td>2021.000000</td>\n",
       "    </tr>\n",
       "  </tbody>\n",
       "</table>\n",
       "</div>"
      ],
      "text/plain": [
       "             Mileage       Rating     City MPG  Highway MPG  \\\n",
       "count    8819.000000  8819.000000  8819.000000  8819.000000   \n",
       "mean    42803.285633     4.228030    21.459349    28.921193   \n",
       "std     38930.749214     0.797411    15.270756    23.871267   \n",
       "min         1.000000     1.000000    -1.000000    -1.000000   \n",
       "25%     16751.000000     3.900000    17.000000    23.000000   \n",
       "50%     30875.000000     4.500000    20.000000    28.000000   \n",
       "75%     59084.000000     4.800000    24.000000    33.000000   \n",
       "max    200428.000000     5.000000   224.000000   414.000000   \n",
       "\n",
       "       Entertainment Count  Safety Count         Price   Built Year  \n",
       "count          8819.000000   8819.000000   8819.000000  8819.000000  \n",
       "mean              1.831047      3.569792  29273.745096  2016.810183  \n",
       "std               0.684556      1.417489  14741.860930     4.034978  \n",
       "min               1.000000      1.000000   2488.000000  1963.000000  \n",
       "25%               1.000000      3.000000  18990.000000  2016.000000  \n",
       "50%               2.000000      3.000000  26996.000000  2018.000000  \n",
       "75%               2.000000      5.000000  37104.500000  2019.000000  \n",
       "max               4.000000      7.000000  84999.000000  2021.000000  "
      ]
     },
     "execution_count": 64,
     "metadata": {},
     "output_type": "execute_result"
    }
   ],
   "source": [
    "df.describe()"
   ]
  },
  {
   "cell_type": "markdown",
   "metadata": {},
   "source": [
    "The minimum values for City MPG and Highway MPG is -1! This indicates that the NaN values were set to -1 for the numerical columns! Let's see how many they are:"
   ]
  },
  {
   "cell_type": "code",
   "execution_count": 65,
   "metadata": {},
   "outputs": [
    {
     "data": {
      "text/plain": [
       "744"
      ]
     },
     "execution_count": 65,
     "metadata": {},
     "output_type": "execute_result"
    }
   ],
   "source": [
    "df[df['City MPG'] == -1].value_counts().sum()"
   ]
  },
  {
   "cell_type": "code",
   "execution_count": 66,
   "metadata": {},
   "outputs": [
    {
     "data": {
      "text/plain": [
       "749"
      ]
     },
     "execution_count": 66,
     "metadata": {},
     "output_type": "execute_result"
    }
   ],
   "source": [
    "df[df['Highway MPG'] == -1].value_counts().sum()"
   ]
  },
  {
   "cell_type": "markdown",
   "metadata": {},
   "source": [
    "Let's impute the missing values with the median:"
   ]
  },
  {
   "cell_type": "code",
   "execution_count": 67,
   "metadata": {},
   "outputs": [],
   "source": [
    "df['City MPG'].replace({-1:df['City MPG'].median() }, inplace=True)\n",
    "df['Highway MPG'].replace({-1:df['Highway MPG'].median() }, inplace=True)"
   ]
  },
  {
   "cell_type": "code",
   "execution_count": 68,
   "metadata": {},
   "outputs": [
    {
     "data": {
      "text/html": [
       "<div>\n",
       "<style scoped>\n",
       "    .dataframe tbody tr th:only-of-type {\n",
       "        vertical-align: middle;\n",
       "    }\n",
       "\n",
       "    .dataframe tbody tr th {\n",
       "        vertical-align: top;\n",
       "    }\n",
       "\n",
       "    .dataframe thead th {\n",
       "        text-align: right;\n",
       "    }\n",
       "</style>\n",
       "<table border=\"1\" class=\"dataframe\">\n",
       "  <thead>\n",
       "    <tr style=\"text-align: right;\">\n",
       "      <th></th>\n",
       "      <th>Mileage</th>\n",
       "      <th>Rating</th>\n",
       "      <th>City MPG</th>\n",
       "      <th>Highway MPG</th>\n",
       "      <th>Entertainment Count</th>\n",
       "      <th>Safety Count</th>\n",
       "      <th>Price</th>\n",
       "      <th>Built Year</th>\n",
       "    </tr>\n",
       "  </thead>\n",
       "  <tbody>\n",
       "    <tr>\n",
       "      <th>count</th>\n",
       "      <td>8819.000000</td>\n",
       "      <td>8819.000000</td>\n",
       "      <td>8819.000000</td>\n",
       "      <td>8819.000000</td>\n",
       "      <td>8819.000000</td>\n",
       "      <td>8819.000000</td>\n",
       "      <td>8819.000000</td>\n",
       "      <td>8819.000000</td>\n",
       "    </tr>\n",
       "    <tr>\n",
       "      <th>mean</th>\n",
       "      <td>42803.285633</td>\n",
       "      <td>4.228030</td>\n",
       "      <td>23.245266</td>\n",
       "      <td>31.403901</td>\n",
       "      <td>1.831047</td>\n",
       "      <td>3.569792</td>\n",
       "      <td>29273.745096</td>\n",
       "      <td>2016.810183</td>\n",
       "    </tr>\n",
       "    <tr>\n",
       "      <th>std</th>\n",
       "      <td>38930.749214</td>\n",
       "      <td>0.797411</td>\n",
       "      <td>13.685192</td>\n",
       "      <td>22.070151</td>\n",
       "      <td>0.684556</td>\n",
       "      <td>1.417489</td>\n",
       "      <td>14741.860930</td>\n",
       "      <td>4.034978</td>\n",
       "    </tr>\n",
       "    <tr>\n",
       "      <th>min</th>\n",
       "      <td>1.000000</td>\n",
       "      <td>1.000000</td>\n",
       "      <td>11.000000</td>\n",
       "      <td>15.000000</td>\n",
       "      <td>1.000000</td>\n",
       "      <td>1.000000</td>\n",
       "      <td>2488.000000</td>\n",
       "      <td>1963.000000</td>\n",
       "    </tr>\n",
       "    <tr>\n",
       "      <th>25%</th>\n",
       "      <td>16751.000000</td>\n",
       "      <td>3.900000</td>\n",
       "      <td>18.000000</td>\n",
       "      <td>25.000000</td>\n",
       "      <td>1.000000</td>\n",
       "      <td>3.000000</td>\n",
       "      <td>18990.000000</td>\n",
       "      <td>2016.000000</td>\n",
       "    </tr>\n",
       "    <tr>\n",
       "      <th>50%</th>\n",
       "      <td>30875.000000</td>\n",
       "      <td>4.500000</td>\n",
       "      <td>20.000000</td>\n",
       "      <td>28.000000</td>\n",
       "      <td>2.000000</td>\n",
       "      <td>3.000000</td>\n",
       "      <td>26996.000000</td>\n",
       "      <td>2018.000000</td>\n",
       "    </tr>\n",
       "    <tr>\n",
       "      <th>75%</th>\n",
       "      <td>59084.000000</td>\n",
       "      <td>4.800000</td>\n",
       "      <td>24.000000</td>\n",
       "      <td>33.000000</td>\n",
       "      <td>2.000000</td>\n",
       "      <td>5.000000</td>\n",
       "      <td>37104.500000</td>\n",
       "      <td>2019.000000</td>\n",
       "    </tr>\n",
       "    <tr>\n",
       "      <th>max</th>\n",
       "      <td>200428.000000</td>\n",
       "      <td>5.000000</td>\n",
       "      <td>224.000000</td>\n",
       "      <td>414.000000</td>\n",
       "      <td>4.000000</td>\n",
       "      <td>7.000000</td>\n",
       "      <td>84999.000000</td>\n",
       "      <td>2021.000000</td>\n",
       "    </tr>\n",
       "  </tbody>\n",
       "</table>\n",
       "</div>"
      ],
      "text/plain": [
       "             Mileage       Rating     City MPG  Highway MPG  \\\n",
       "count    8819.000000  8819.000000  8819.000000  8819.000000   \n",
       "mean    42803.285633     4.228030    23.245266    31.403901   \n",
       "std     38930.749214     0.797411    13.685192    22.070151   \n",
       "min         1.000000     1.000000    11.000000    15.000000   \n",
       "25%     16751.000000     3.900000    18.000000    25.000000   \n",
       "50%     30875.000000     4.500000    20.000000    28.000000   \n",
       "75%     59084.000000     4.800000    24.000000    33.000000   \n",
       "max    200428.000000     5.000000   224.000000   414.000000   \n",
       "\n",
       "       Entertainment Count  Safety Count         Price   Built Year  \n",
       "count          8819.000000   8819.000000   8819.000000  8819.000000  \n",
       "mean              1.831047      3.569792  29273.745096  2016.810183  \n",
       "std               0.684556      1.417489  14741.860930     4.034978  \n",
       "min               1.000000      1.000000   2488.000000  1963.000000  \n",
       "25%               1.000000      3.000000  18990.000000  2016.000000  \n",
       "50%               2.000000      3.000000  26996.000000  2018.000000  \n",
       "75%               2.000000      5.000000  37104.500000  2019.000000  \n",
       "max               4.000000      7.000000  84999.000000  2021.000000  "
      ]
     },
     "execution_count": 68,
     "metadata": {},
     "output_type": "execute_result"
    }
   ],
   "source": [
    "df.describe()"
   ]
  },
  {
   "cell_type": "code",
   "execution_count": 69,
   "metadata": {},
   "outputs": [
    {
     "data": {
      "text/plain": [
       "(8819, 19)"
      ]
     },
     "execution_count": 69,
     "metadata": {},
     "output_type": "execute_result"
    }
   ],
   "source": [
    "df.shape"
   ]
  },
  {
   "cell_type": "code",
   "execution_count": 70,
   "metadata": {},
   "outputs": [],
   "source": [
    "df.to_csv(r'C:\\Users\\nesha\\Desktop\\car_cleaned_data.csv')"
   ]
  }
 ],
 "metadata": {
  "kernelspec": {
   "display_name": "Python 3",
   "language": "python",
   "name": "python3"
  },
  "language_info": {
   "codemirror_mode": {
    "name": "ipython",
    "version": 3
   },
   "file_extension": ".py",
   "mimetype": "text/x-python",
   "name": "python",
   "nbconvert_exporter": "python",
   "pygments_lexer": "ipython3",
   "version": "3.8.5"
  }
 },
 "nbformat": 4,
 "nbformat_minor": 4
}
